{
  "cells": [
    {
      "cell_type": "markdown",
      "source": [
        "# Automated ML\n",
        "\n",
        "TODO: Import Dependencies. In the cell below, import all the dependencies that you will need to complete the project."
      ],
      "metadata": {}
    },
    {
      "cell_type": "code",
      "source": [
        "import logging\n",
        "import os\n",
        "import csv\n",
        "from azureml.core.compute_target import ComputeTargetException\n",
        "from azureml.core.compute import AmlCompute\n",
        "from sklearn.model_selection import train_test_split\n",
        "from azureml.data.dataset_factory import TabularDatasetFactory\n",
        "from azureml.widgets import RunDetails\n",
        "\n",
        "from matplotlib import pyplot as plt\n",
        "import numpy as np\n",
        "import pandas as pd\n",
        "from sklearn import datasets\n",
        "import pkg_resources\n",
        "\n",
        "import azureml.core\n",
        "from azureml.core.experiment import Experiment\n",
        "from azureml.core.workspace import Workspace\n",
        "from azureml.train.automl import AutoMLConfig\n",
        "from azureml.core.dataset import Dataset\n",
        "from azureml.core.compute import ComputeTarget\n",
        "\n",
        "from azureml.pipeline.steps import AutoMLStep\n",
        "\n",
        "# Check core SDK version number\n",
        "print(\"SDK version:\", azureml.core.VERSION)\n",
        "\n"
      ],
      "outputs": [
        {
          "output_type": "stream",
          "name": "stdout",
          "text": "SDK version: 1.56.0\n"
        }
      ],
      "execution_count": 19,
      "metadata": {
        "gather": {
          "logged": 1720534377239
        },
        "jupyter": {
          "outputs_hidden": false,
          "source_hidden": false
        },
        "nteract": {
          "transient": {
            "deleting": false
          }
        }
      }
    },
    {
      "cell_type": "markdown",
      "source": [
        "## Dataset\n",
        "\n",
        "### Overview\n",
        "TODO: In this markdown cell, give an overview of the dataset you are using. Also mention the task you will be performing.\n",
        "\n",
        "\n",
        "TODO: Get data. In the cell below, write code to access the data you will be using in this project. Remember that the dataset needs to be external."
      ],
      "metadata": {}
    },
    {
      "cell_type": "code",
      "source": [
        "ws = Workspace.from_config()\n",
        "print(ws.name, ws.resource_group, ws.location, ws.subscription_id, sep = '\\n')\n",
        "# choose a name for experiment\n",
        "experiment_name = 'heart-stroke-exp'\n",
        "project_folder = './project-capstone'\n",
        "\n",
        "experiment=Experiment(ws, experiment_name)"
      ],
      "outputs": [],
      "execution_count": 2,
      "metadata": {
        "gather": {
          "logged": 1720532153430
        },
        "jupyter": {
          "outputs_hidden": false,
          "source_hidden": false
        },
        "nteract": {
          "transient": {
            "deleting": false
          }
        }
      }
    },
    {
      "cell_type": "markdown",
      "source": [
        "## AutoML Configuration\n",
        "\n",
        "TODO: Explain why you chose the automl settings and cofiguration you used below."
      ],
      "metadata": {}
    },
    {
      "cell_type": "code",
      "source": [
        "try:\n",
        "    compute_target = ComputeTarget(workspace=ws, name='compute-for-aml')\n",
        "    print('Found existing cluster, use it.')\n",
        "except ComputeTargetException:\n",
        "    compute_config = AmlCompute.provisioning_configuration(vm_size='STANDARD_D2_V2',\n",
        "                                                           max_nodes=4)\n",
        "    compute_target = ComputeTarget.create(ws, 'compute-for-aml', compute_config)\n",
        "\n",
        "compute_target.wait_for_completion(show_output=True, min_node_count = 1, timeout_in_minutes = 2)"
      ],
      "outputs": [
        {
          "output_type": "stream",
          "name": "stdout",
          "text": "InProgress..\nSucceededProvisioning operation finished, operation \"Succeeded\"\nSucceeded........................\nAmlCompute wait for completion finished\n\nWait timeout has been reached\nCurrent provisioning state of AmlCompute is \"Succeeded\" and current node count is \"0\"\n"
        }
      ],
      "execution_count": 11,
      "metadata": {
        "jupyter": {
          "source_hidden": false,
          "outputs_hidden": false
        },
        "nteract": {
          "transient": {
            "deleting": false
          }
        },
        "gather": {
          "logged": 1720532921393
        }
      }
    },
    {
      "cell_type": "code",
      "source": [
        "automl_settings = {\n",
        "    \"n_cross_validations\": 2,\n",
        "    \"experiment_timeout_minutes\": 30,\n",
        "    \"max_concurrent_iterations\": 5,\n",
        "    \"primary_metric\" : 'AUC_weighted',\n",
        "    \"verbosity\": logging.INFO,\n",
        "}\n",
        "\n",
        "automl_config = AutoMLConfig(compute_target=compute_target,\n",
        "                             task = \"classification\",\n",
        "                             training_data=dataset,\n",
        "                             label_column_name=\"stroke\",   \n",
        "                             path = project_folder,\n",
        "                             enable_early_stopping= True,\n",
        "                             featurization= 'auto',\n",
        "                             debug_log = \"automl_errors.log\",\n",
        "                             **automl_settings\n",
        "                            )"
      ],
      "outputs": [],
      "execution_count": 17,
      "metadata": {
        "gather": {
          "logged": 1720534307449
        },
        "jupyter": {
          "outputs_hidden": false,
          "source_hidden": false
        },
        "nteract": {
          "transient": {
            "deleting": false
          }
        }
      }
    },
    {
      "cell_type": "code",
      "source": [
        "# TODO: Submit your experiment\n",
        "remote_run = experiment.submit(automl_config)"
      ],
      "outputs": [
        {
          "output_type": "stream",
          "name": "stdout",
          "text": "Submitting remote run.\n"
        },
        {
          "output_type": "display_data",
          "data": {
            "text/html": "<table style=\"width:100%\"><tr><th>Experiment</th><th>Id</th><th>Type</th><th>Status</th><th>Details Page</th><th>Docs Page</th></tr><tr><td>heart-stroke-exp</td><td>AutoML_38630b92-f55c-4762-b949-0cdde20d04e0</td><td>automl</td><td>NotStarted</td><td><a href=\"https://ml.azure.com/runs/AutoML_38630b92-f55c-4762-b949-0cdde20d04e0?wsid=/subscriptions/3e42d11f-d64d-4173-af9b-12ecaa1030b3/resourcegroups/aml-quickstarts-262077/workspaces/quick-starts-ws-262077&amp;tid=660b3398-b80e-49d2-bc5b-ac1dc93b5254\" target=\"_blank\" rel=\"noopener\">Link to Azure Machine Learning studio</a></td><td><a href=\"https://docs.microsoft.com/en-us/python/api/overview/azure/ml/intro?view=azure-ml-py\" target=\"_blank\" rel=\"noopener\">Link to Documentation</a></td></tr></table>"
          },
          "metadata": {}
        }
      ],
      "execution_count": 18,
      "metadata": {
        "gather": {
          "logged": 1720534316422
        },
        "jupyter": {
          "outputs_hidden": false,
          "source_hidden": false
        },
        "nteract": {
          "transient": {
            "deleting": false
          }
        }
      }
    },
    {
      "cell_type": "markdown",
      "source": [
        "## Run Details\n",
        "\n",
        "OPTIONAL: Write about the different models trained and their performance. Why do you think some models did better than others?\n",
        "\n",
        "TODO: In the cell below, use the `RunDetails` widget to show the different experiments."
      ],
      "metadata": {}
    },
    {
      "cell_type": "code",
      "source": [
        "RunDetails(remote_run).show()\n",
        "remote_run.wait_for_completion()"
      ],
      "outputs": [
        {
          "output_type": "stream",
          "name": "stderr",
          "text": "2024-07-09 14:13:33.801062: W tensorflow/stream_executor/platform/default/dso_loader.cc:64] Could not load dynamic library 'libcudart.so.11.0'; dlerror: libcudart.so.11.0: cannot open shared object file: No such file or directory; LD_LIBRARY_PATH: /anaconda/envs/azureml_py38/lib/python3.9/site-packages/cv2/../../lib64:\n2024-07-09 14:13:33.801112: I tensorflow/stream_executor/cuda/cudart_stub.cc:29] Ignore above cudart dlerror if you do not have a GPU set up on your machine.\n"
        },
        {
          "output_type": "display_data",
          "data": {
            "text/plain": "_AutoMLWidget(widget_settings={'childWidgetDisplay': 'popup', 'send_telemetry': False, 'log_level': 'INFO', 's…",
            "application/vnd.jupyter.widget-view+json": {
              "version_major": 2,
              "version_minor": 0,
              "model_id": "02d2ef27f94f48a89b1f0cd67f6f2726"
            }
          },
          "metadata": {}
        },
        {
          "output_type": "display_data",
          "data": {
            "application/aml.mini.widget.v1": "{\"status\": \"Completed\", \"workbench_run_details_uri\": \"https://ml.azure.com/runs/AutoML_38630b92-f55c-4762-b949-0cdde20d04e0?wsid=/subscriptions/3e42d11f-d64d-4173-af9b-12ecaa1030b3/resourcegroups/aml-quickstarts-262077/workspaces/quick-starts-ws-262077&tid=660b3398-b80e-49d2-bc5b-ac1dc93b5254\", \"run_id\": \"AutoML_38630b92-f55c-4762-b949-0cdde20d04e0\", \"run_properties\": {\"run_id\": \"AutoML_38630b92-f55c-4762-b949-0cdde20d04e0\", \"created_utc\": \"2024-07-09T14:11:54.131467Z\", \"properties\": {\"num_iterations\": \"1000\", \"training_type\": \"TrainFull\", \"acquisition_function\": \"EI\", \"primary_metric\": \"AUC_weighted\", \"train_split\": \"0\", \"acquisition_parameter\": \"0\", \"num_cross_validation\": \"2\", \"target\": \"compute-for-aml\", \"AMLSettingsJsonString\": \"{\\\"path\\\":null,\\\"name\\\":\\\"heart-stroke-exp\\\",\\\"subscription_id\\\":\\\"3e42d11f-d64d-4173-af9b-12ecaa1030b3\\\",\\\"resource_group\\\":\\\"aml-quickstarts-262077\\\",\\\"workspace_name\\\":\\\"quick-starts-ws-262077\\\",\\\"region\\\":\\\"westeurope\\\",\\\"compute_target\\\":\\\"compute-for-aml\\\",\\\"spark_service\\\":null,\\\"azure_service\\\":\\\"remote\\\",\\\"many_models\\\":false,\\\"pipeline_fetch_max_batch_size\\\":1,\\\"enable_batch_run\\\":true,\\\"enable_parallel_run\\\":false,\\\"num_procs\\\":null,\\\"enable_run_restructure\\\":false,\\\"start_auxiliary_runs_before_parent_complete\\\":false,\\\"enable_code_generation\\\":true,\\\"force_curated_environment\\\":false,\\\"iterations\\\":1000,\\\"primary_metric\\\":\\\"AUC_weighted\\\",\\\"task_type\\\":\\\"classification\\\",\\\"positive_label\\\":null,\\\"data_script\\\":null,\\\"test_size\\\":0.0,\\\"test_include_predictions_only\\\":false,\\\"validation_size\\\":0.0,\\\"n_cross_validations\\\":2,\\\"y_min\\\":null,\\\"y_max\\\":null,\\\"num_classes\\\":null,\\\"featurization\\\":\\\"auto\\\",\\\"_ignore_package_version_incompatibilities\\\":false,\\\"is_timeseries\\\":false,\\\"max_cores_per_iteration\\\":1,\\\"max_concurrent_iterations\\\":5,\\\"iteration_timeout_minutes\\\":null,\\\"mem_in_mb\\\":null,\\\"enforce_time_on_windows\\\":false,\\\"experiment_timeout_minutes\\\":30,\\\"experiment_exit_score\\\":null,\\\"partition_column_names\\\":null,\\\"whitelist_models\\\":null,\\\"blacklist_algos\\\":[\\\"TensorFlowLinearClassifier\\\",\\\"TensorFlowDNN\\\"],\\\"supported_models\\\":[\\\"TabnetClassifier\\\",\\\"MultinomialNaiveBayes\\\",\\\"LightGBM\\\",\\\"ExtremeRandomTrees\\\",\\\"RandomForest\\\",\\\"XGBoostClassifier\\\",\\\"LogisticRegression\\\",\\\"SVM\\\",\\\"LinearSVM\\\",\\\"TensorFlowLinearClassifier\\\",\\\"GradientBoosting\\\",\\\"SGD\\\",\\\"KNN\\\",\\\"AveragedPerceptronClassifier\\\",\\\"DecisionTree\\\",\\\"BernoulliNaiveBayes\\\",\\\"TensorFlowDNN\\\"],\\\"private_models\\\":[],\\\"auto_blacklist\\\":true,\\\"blacklist_samples_reached\\\":false,\\\"exclude_nan_labels\\\":true,\\\"verbosity\\\":20,\\\"_debug_log\\\":\\\"azureml_automl.log\\\",\\\"show_warnings\\\":false,\\\"model_explainability\\\":true,\\\"service_url\\\":null,\\\"sdk_url\\\":null,\\\"sdk_packages\\\":null,\\\"enable_onnx_compatible_models\\\":false,\\\"enable_split_onnx_featurizer_estimator_models\\\":false,\\\"vm_type\\\":\\\"STANDARD_D2_V2\\\",\\\"telemetry_verbosity\\\":20,\\\"send_telemetry\\\":true,\\\"enable_dnn\\\":false,\\\"scenario\\\":\\\"AutoML\\\",\\\"environment_label\\\":null,\\\"save_mlflow\\\":false,\\\"enable_categorical_indicators\\\":false,\\\"force_text_dnn\\\":false,\\\"enable_feature_sweeping\\\":true,\\\"enable_early_stopping\\\":true,\\\"early_stopping_n_iters\\\":10,\\\"arguments\\\":null,\\\"dataset_id\\\":\\\"b4e975d7-c2b2-4a8d-a8f0-7465f5efe693\\\",\\\"hyperdrive_config\\\":null,\\\"validation_dataset_id\\\":null,\\\"run_source\\\":null,\\\"metrics\\\":null,\\\"enable_metric_confidence\\\":false,\\\"enable_ensembling\\\":true,\\\"enable_stack_ensembling\\\":true,\\\"ensemble_iterations\\\":15,\\\"enable_tf\\\":false,\\\"enable_subsampling\\\":null,\\\"subsample_seed\\\":null,\\\"enable_nimbusml\\\":false,\\\"enable_streaming\\\":false,\\\"force_streaming\\\":false,\\\"track_child_runs\\\":true,\\\"n_best_runs\\\":1,\\\"allowed_private_models\\\":[],\\\"label_column_name\\\":\\\"stroke\\\",\\\"weight_column_name\\\":null,\\\"cv_split_column_names\\\":null,\\\"enable_local_managed\\\":false,\\\"_local_managed_run_id\\\":null,\\\"cost_mode\\\":1,\\\"lag_length\\\":0,\\\"metric_operation\\\":\\\"maximize\\\",\\\"preprocess\\\":true}\", \"DataPrepJsonString\": \"{\\\\\\\"training_data\\\\\\\": {\\\\\\\"datasetId\\\\\\\": \\\\\\\"b4e975d7-c2b2-4a8d-a8f0-7465f5efe693\\\\\\\"}, \\\\\\\"datasets\\\\\\\": 0}\", \"EnableSubsampling\": null, \"runTemplate\": \"AutoML\", \"azureml.runsource\": \"automl\", \"display_task_type\": \"classification\", \"dependencies_versions\": \"{\\\"azureml-accel-models\\\": \\\"1.56.0\\\", \\\"azureml-automl-core\\\": \\\"1.56.0\\\", \\\"azureml-automl-dnn-nlp\\\": \\\"1.56.0\\\", \\\"azureml-automl-runtime\\\": \\\"1.56.0\\\", \\\"azureml-cli-common\\\": \\\"1.56.0\\\", \\\"azureml-contrib-automl-pipeline-steps\\\": \\\"1.56.0\\\", \\\"azureml-contrib-dataset\\\": \\\"1.56.0\\\", \\\"azureml-contrib-fairness\\\": \\\"1.56.0\\\", \\\"azureml-contrib-notebook\\\": \\\"1.56.0\\\", \\\"azureml-contrib-pipeline-steps\\\": \\\"1.56.0\\\", \\\"azureml-contrib-reinforcementlearning\\\": \\\"1.56.0\\\", \\\"azureml-contrib-server\\\": \\\"1.56.0\\\", \\\"azureml-contrib-services\\\": \\\"1.56.0\\\", \\\"azureml-core\\\": \\\"1.56.0\\\", \\\"azureml-datadrift\\\": \\\"1.56.0\\\", \\\"azureml-dataprep\\\": \\\"5.1.6\\\", \\\"azureml-dataprep-native\\\": \\\"41.0.0\\\", \\\"azureml-dataprep-rslex\\\": \\\"2.22.2\\\", \\\"azureml-dataset-runtime\\\": \\\"1.56.0\\\", \\\"azureml-defaults\\\": \\\"1.56.0\\\", \\\"azureml-inference-server-http\\\": \\\"1.0.0\\\", \\\"azureml-interpret\\\": \\\"1.56.0\\\", \\\"azureml-mlflow\\\": \\\"1.56.0\\\", \\\"azureml-opendatasets\\\": \\\"1.56.0\\\", \\\"azureml-pipeline\\\": \\\"1.56.0\\\", \\\"azureml-pipeline-core\\\": \\\"1.56.0\\\", \\\"azureml-pipeline-steps\\\": \\\"1.56.0\\\", \\\"azureml-responsibleai\\\": \\\"1.56.0\\\", \\\"azureml-sdk\\\": \\\"1.56.0\\\", \\\"azureml-telemetry\\\": \\\"1.56.0\\\", \\\"azureml-tensorboard\\\": \\\"1.56.0\\\", \\\"azureml-train\\\": \\\"1.56.0\\\", \\\"azureml-train-automl\\\": \\\"1.56.0\\\", \\\"azureml-train-automl-client\\\": \\\"1.56.0\\\", \\\"azureml-train-automl-runtime\\\": \\\"1.56.0\\\", \\\"azureml-train-core\\\": \\\"1.56.0\\\", \\\"azureml-train-restclients-hyperdrive\\\": \\\"1.56.0\\\", \\\"azureml-training-tabular\\\": \\\"1.56.0\\\", \\\"azureml-widgets\\\": \\\"1.56.0\\\"}\", \"_aml_system_scenario_identification\": \"Remote.Parent\", \"ClientType\": \"SDK\", \"PlatformVersion\": \"DPV1\", \"environment_cpu_name\": \"AzureML-AutoML\", \"environment_cpu_label\": \"prod\", \"environment_gpu_name\": \"AzureML-AutoML-GPU\", \"environment_gpu_label\": \"prod\", \"root_attribution\": \"automl\", \"attribution\": \"AutoML\", \"Orchestrator\": \"AutoML\", \"CancelUri\": \"https://westeurope.api.azureml.ms/jasmine/v1.0/subscriptions/3e42d11f-d64d-4173-af9b-12ecaa1030b3/resourceGroups/aml-quickstarts-262077/providers/Microsoft.MachineLearningServices/workspaces/quick-starts-ws-262077/experimentids/ad8269a5-bd47-4ca2-b963-d2e8ac044cfe/cancel/AutoML_38630b92-f55c-4762-b949-0cdde20d04e0\", \"ClientSdkVersion\": null, \"snapshotId\": \"00000000-0000-0000-0000-000000000000\", \"SetupRunId\": \"AutoML_38630b92-f55c-4762-b949-0cdde20d04e0_setup\", \"SetupRunContainerId\": \"dcid.AutoML_38630b92-f55c-4762-b949-0cdde20d04e0_setup\", \"FeaturizationRunJsonPath\": \"featurizer_container.json\", \"FeaturizationRunId\": \"AutoML_38630b92-f55c-4762-b949-0cdde20d04e0_featurize\", \"ProblemInfoJsonString\": \"{\\\"dataset_num_categorical\\\": 0, \\\"is_sparse\\\": true, \\\"subsampling\\\": false, \\\"has_extra_col\\\": true, \\\"dataset_classes\\\": 2, \\\"dataset_features\\\": 275, \\\"dataset_samples\\\": 5110, \\\"single_frequency_class_detected\\\": false}\", \"ModelExplainRunId\": \"AutoML_38630b92-f55c-4762-b949-0cdde20d04e0_ModelExplain\"}, \"tags\": {\"model_explain_run\": \"best_run\", \"_aml_system_automl_run_workspace_id\": \"f094598d-9025-4e03-8cd6-d7c198a5a57a\", \"_aml_system_azureml.automlComponent\": \"AutoML\", \"pipeline_id_000\": \"5dfac790c5c209f98a1da2dc1c7fb76f0397324f;c7af0367625be6ac5c2fecbfc72ed444cb7a2111;51ae05309834b29f71340af1008fc94fbd8213f4;ce2643edf3d450b10c86c7d034a9bc952dc282d3;039a99c3d5147edeb525249e2660628be3e8b83f;a3dadd95854bf6116ab454844302b51d417d78b7;1dfdf370ba770047b14bfa59c40920815defcdab;294650ec23bc3d067a4972de7ceb12f6e97260fa;681a59302459aec2cc115ddbc14e1d28f4b3b8df;5bcf69d12307c5f0246b0d33ab19666443595ac9;6f4a466f84f725a47910c1dff062a1bb46df2a21;dea7fdbaedc77258dbfe31dbfed41e768ca38939;c74787cd2f0507b852a1ac70d504d83ac9bdec83;79ebb3b8c385e3190e3dd4c1fa28b74730528045;1e38ae92baee19b18f211a8b14c16015d5ee3dc3;a72eb56f3d4aadb7b7f0149ba6e5f05657a95ca1;9610149fbcf43017aa810a290e9c04cbe6fa8684;a7434e890cabef86b0ce4ae71fb633e1e92b854d;dd46719e1e1ca3df6e6826afb96bf9be8390e6e2;208056285bd1883d5bd7d4e4e996a1c71c4b0033;ee365d2bc711bc6838929328cc4ff4b890fbc6c3;3fe9ace0255a98a01a321c2b4c6ab86f6c1db8e5;f9c4839cd35f7fe03bcc11d87a99d82f63f333dc;dfc631bbb8f3be228d228210719dafe9e4a19b00;a42e60f6834c105153adf0b78afbde0a0a627988;52731e0c6d7dd5b96247c1b15134f3dc24ee0d08;e19ab0be4e132757e8821ec04c0c59231d0a3f93;b481dd9c9876c163d10ddbc078f1969d9289c912;90da93d37a03a4ed342537ad55669db241d4f0b1;1313991204c9e29bffed0444f8279d7aa6d1b5e8;7257d02dbf5738ee04497155d6bb4baaa52873e1;b93add9f7927254dcfd406ebb4cb9ec6ae44af26;eee5eeba70a4fe56a53a1203b302c377ec62430f;5b463a93c23c8104273c0de7067da891a09cfcfa;1a84e5aa4a370f1ff42f4fc8668c7bcc607cb68a;8857c43c0152039c97ce01c7d03186b9d9dca953;d5c98e9397e81fb65bc2cd0264b39c2aada9ad40;72e837069b618e8a1752ccc9773c9b7302b7992d;06d3f9e044369d44ef4363dc561cd23e3b1a58fd;4b279615755aad41f5d14111bf2920cd29bd64bf;5b7a0309690783a26b085716fbaea390b02ed748;1b36bbf1ca771be2364bf53ae54f31de2eeb92b3;1d4cbe889cdf5b662f1ff2fafc2ffc772781ffcc;5dcd9bc8a74634130a855a68c1bf956ce7160f98;__AutoML_Ensemble__;__AutoML_Stack_Ensemble__\", \"score_000\": \"0.8113442343558885;0.7954156991578053;0.8370067616114518;0.6903837212931352;0.8277757485509439;0.7560556027207477;0.723773727791803;0.7615278541973958;0.7799649400397259;0.7735380571332473;0.764442704292688;0.7810472296892975;0.822736557811018;0.8099956730410258;0.7288116109633445;0.8114853689415235;0.819532259430404;0.8321069335941418;0.8108123388247512;0.7962325691627732;0.8182796744702365;0.8099040373865439;0.8042872296936221;0.774244584762092;0.5;0.8385293523567958;0.8311149412519725;0.7598683966891697;0.8366369369192748;0.7858206021577777;0.7843837357818759;0.83366982706695;0.8058678890333635;0.7524311291564805;0.7652729983832203;0.7859448992026803;0.8219307175616796;0.8280416315530094;0.8198956944195646;0.8151793617281583;NaN;NaN;0.8374239370397449;NaN;0.849754460689047;0.8466468423476083\", \"predicted_cost_000\": \"0;0;0.5;0.5;0.5;0.5;0.5;0.5;0.5;0.5;0.5;0.5;0.5;0.5;0.5;0.5;0.5;0.5;0.5;0.5;0.11590535501350219;0.28647252737183376;0.08245557742261261;0.0700959151577755;0.07777980333759332;0.3757746352482784;0.036738401619438504;0.21965391748773092;0.4228984159654325;0.45191807020296404;0.21184105782938162;0.46220775913670575;0.40496007298872705;0.9580493907873803;0.26933810895014126;0.826476514220916;0.38903058896021114;0.33883029344447246;0.11198727863743606;0.2171660713044937;0.16192504856791548;1.174015549957829;0.08993794996496625;0.6223537157603031;0;0\", \"fit_time_000\": \"0.14617750000000002;0.69263;0.068039;0.038612499999999994;0.02726;0.136584;0.4091325;0.11963750000000001;0.17396099999999998;0.109232;0.0328885;0.8038915;0.192083;0.06659749999999999;0.11063100000000001;0.6591;0.1050585;1.3149065;0.1071335;0.248912;0.11226850000000001;0.5992245;0.041918500000000004;0.1430265;0.022891;1.1055705;0.0703985;0.977479;0.1026915;0.899508;0.314229;0.067244;0.373589;0.7158359999999999;0.321796;0.9864035;0.6108715;0.417979;0.1701785;0.471035;NaN;NaN;0.24813000000000002;NaN;20;24\", \"training_percent_000\": \"100;100;100;100;100;100;100;100;100;100;100;100;100;100;100;100;100;100;100;100;100;100;100;100;100;100;100;100;100;100;100;100;100;100;100;100;100;100;100;100;100;100;100;100;100;100\", \"iteration_000\": \"0;1;2;3;4;5;6;7;8;9;10;11;12;13;16;14;15;17;18;19;21;22;23;25;24;26;27;28;29;30;31;32;33;34;35;36;37;38;39;40;43;41;42;20;44;45\", \"run_preprocessor_000\": \"MaxAbsScaler;MaxAbsScaler;MaxAbsScaler;MaxAbsScaler;StandardScalerWrapper;SparseNormalizer;SparseNormalizer;StandardScalerWrapper;SparseNormalizer;MaxAbsScaler;SparseNormalizer;MaxAbsScaler;StandardScalerWrapper;StandardScalerWrapper;MaxAbsScaler;StandardScalerWrapper;MaxAbsScaler;StandardScalerWrapper;StandardScalerWrapper;MaxAbsScaler;StandardScalerWrapper;StandardScalerWrapper;MaxAbsScaler;SparseNormalizer;SparseNormalizer;StandardScalerWrapper;StandardScalerWrapper;SparseNormalizer;MaxAbsScaler;SparseNormalizer;SparseNormalizer;MaxAbsScaler;StandardScalerWrapper;SparseNormalizer;StandardScalerWrapper;MaxAbsScaler;StandardScalerWrapper;StandardScalerWrapper;StandardScalerWrapper;TruncatedSVDWrapper;;;MaxAbsScaler;MaxAbsScaler;;\", \"run_algorithm_000\": \"LightGBM;XGBoostClassifier;ExtremeRandomTrees;RandomForest;LightGBM;XGBoostClassifier;RandomForest;XGBoostClassifier;XGBoostClassifier;RandomForest;LightGBM;ExtremeRandomTrees;XGBoostClassifier;ExtremeRandomTrees;LogisticRegression;RandomForest;LightGBM;ExtremeRandomTrees;XGBoostClassifier;ExtremeRandomTrees;XGBoostClassifier;XGBoostClassifier;RandomForest;XGBoostClassifier;ExtremeRandomTrees;XGBoostClassifier;XGBoostClassifier;XGBoostClassifier;LightGBM;XGBoostClassifier;LightGBM;LightGBM;GradientBoosting;XGBoostClassifier;XGBoostClassifier;GradientBoosting;XGBoostClassifier;XGBoostClassifier;XGBoostClassifier;XGBoostClassifier;;;LightGBM;LogisticRegression;VotingEnsemble;StackEnsemble\", \"dynamic_allowlisting_iterations\": \"<24>;<30>;<35>;<40>;\", \"_aml_system_azureml.automl_early_exit_message\": \"No scores improved over last 10 iterations, so experiment stopped early. This early stopping behavior can be disabled by setting enable_early_stopping = False in AutoMLConfig for notebook/python SDK runs.\", \"automl_best_child_run_id\": \"AutoML_38630b92-f55c-4762-b949-0cdde20d04e0_44\", \"model_explain_best_run_child_id\": \"AutoML_38630b92-f55c-4762-b949-0cdde20d04e0_44\"}, \"end_time_utc\": \"2024-07-09T14:40:39.904958Z\", \"status\": \"Completed\", \"log_files\": {}, \"log_groups\": [], \"run_duration\": \"0:28:45\", \"run_number\": \"1720534314\", \"run_queued_details\": {\"status\": \"Completed\", \"details\": null}}, \"child_runs\": [{\"run_id\": \"AutoML_38630b92-f55c-4762-b949-0cdde20d04e0_setup\", \"run_number\": 1720534329, \"metric\": null, \"status\": \"Completed\", \"run_type\": \"azureml.scriptrun\", \"training_percent\": null, \"start_time\": \"2024-07-09T14:15:39.541252Z\", \"end_time\": \"2024-07-09T14:21:47.327479Z\", \"created_time\": \"2024-07-09T14:12:09.132598Z\", \"created_time_dt\": \"2024-07-09T14:12:09.132598Z\", \"duration\": \"0:09:38\", \"iteration\": null, \"goal\": null, \"run_name\": \"Completed\", \"run_properties\": null}, {\"run_id\": \"AutoML_38630b92-f55c-4762-b949-0cdde20d04e0_featurize\", \"run_number\": 1720534907, \"metric\": null, \"status\": \"Completed\", \"run_type\": \"automl.featurization\", \"training_percent\": null, \"start_time\": \"2024-07-09T14:21:48.091153Z\", \"end_time\": \"2024-07-09T14:23:34.515226Z\", \"created_time\": \"2024-07-09T14:21:47.670851Z\", \"created_time_dt\": \"2024-07-09T14:21:47.670851Z\", \"duration\": \"0:01:46\", \"iteration\": null, \"goal\": null, \"run_name\": \"Completed\", \"run_properties\": null}, {\"run_id\": \"AutoML_38630b92-f55c-4762-b949-0cdde20d04e0_0\", \"run_number\": 1720535016, \"metric\": null, \"status\": \"Completed\", \"run_type\": null, \"training_percent\": \"100\", \"start_time\": \"2024-07-09T14:24:20.941222Z\", \"end_time\": \"2024-07-09T14:24:30.936808Z\", \"created_time\": \"2024-07-09T14:23:36.493731Z\", \"created_time_dt\": \"2024-07-09T14:23:36.493731Z\", \"duration\": \"0:00:54\", \"iteration\": \"0\", \"goal\": \"AUC_weighted_max\", \"run_name\": \"MaxAbsScaler, LightGBM\", \"run_properties\": null, \"primary_metric\": 0.81134423, \"best_metric\": 0.81134423}, {\"run_id\": \"AutoML_38630b92-f55c-4762-b949-0cdde20d04e0_2\", \"run_number\": 1720535017, \"metric\": null, \"status\": \"Completed\", \"run_type\": null, \"training_percent\": \"100\", \"start_time\": \"2024-07-09T14:24:48.449475Z\", \"end_time\": \"2024-07-09T14:24:57.239584Z\", \"created_time\": \"2024-07-09T14:23:37.497748Z\", \"created_time_dt\": \"2024-07-09T14:23:37.497748Z\", \"duration\": \"0:01:19\", \"iteration\": \"2\", \"goal\": \"AUC_weighted_max\", \"run_name\": \"MaxAbsScaler, ExtremeRandomTrees\", \"run_properties\": null, \"primary_metric\": 0.83700676, \"best_metric\": 0.83700676}, {\"run_id\": \"AutoML_38630b92-f55c-4762-b949-0cdde20d04e0_worker_0\", \"run_number\": 1720535018, \"metric\": null, \"status\": \"Completed\", \"run_type\": \"azureml.scriptrun\", \"training_percent\": null, \"start_time\": \"2024-07-09T14:24:07.111788Z\", \"end_time\": \"2024-07-09T14:25:16.899619Z\", \"created_time\": \"2024-07-09T14:23:38.556609Z\", \"created_time_dt\": \"2024-07-09T14:23:38.556609Z\", \"duration\": \"0:01:38\", \"iteration\": null, \"goal\": null, \"run_name\": \"Completed\", \"run_properties\": null}, {\"run_id\": \"AutoML_38630b92-f55c-4762-b949-0cdde20d04e0_5\", \"run_number\": 1720535019, \"metric\": null, \"status\": \"Completed\", \"run_type\": null, \"training_percent\": \"100\", \"start_time\": \"2024-07-09T14:25:53.724494Z\", \"end_time\": \"2024-07-09T14:26:02.519533Z\", \"created_time\": \"2024-07-09T14:23:39.310916Z\", \"created_time_dt\": \"2024-07-09T14:23:39.310916Z\", \"duration\": \"0:02:23\", \"iteration\": \"5\", \"goal\": \"AUC_weighted_max\", \"run_name\": \"SparseNormalizer, XGBoostClassifier\", \"run_properties\": \"norm='max'\", \"primary_metric\": 0.7560556, \"best_metric\": 0.83700676}, {\"run_id\": \"AutoML_38630b92-f55c-4762-b949-0cdde20d04e0_worker_1\", \"run_number\": 1720535020, \"metric\": null, \"status\": \"Completed\", \"run_type\": \"azureml.scriptrun\", \"training_percent\": null, \"start_time\": \"2024-07-09T14:25:29.518509Z\", \"end_time\": \"2024-07-09T14:26:32.863538Z\", \"created_time\": \"2024-07-09T14:23:40.575956Z\", \"created_time_dt\": \"2024-07-09T14:23:40.575956Z\", \"duration\": \"0:02:52\", \"iteration\": null, \"goal\": null, \"run_name\": \"Completed\", \"run_properties\": null}, {\"run_id\": \"AutoML_38630b92-f55c-4762-b949-0cdde20d04e0_9\", \"run_number\": 1720535021, \"metric\": null, \"status\": \"Completed\", \"run_type\": null, \"training_percent\": \"100\", \"start_time\": \"2024-07-09T14:27:12.786528Z\", \"end_time\": \"2024-07-09T14:27:21.40533Z\", \"created_time\": \"2024-07-09T14:23:41.167765Z\", \"created_time_dt\": \"2024-07-09T14:23:41.167765Z\", \"duration\": \"0:03:40\", \"iteration\": \"9\", \"goal\": \"AUC_weighted_max\", \"run_name\": \"MaxAbsScaler, RandomForest\", \"run_properties\": null, \"primary_metric\": 0.77353806, \"best_metric\": 0.83700676}, {\"run_id\": \"AutoML_38630b92-f55c-4762-b949-0cdde20d04e0_worker_2\", \"run_number\": 1720535022, \"metric\": null, \"status\": \"Completed\", \"run_type\": \"azureml.scriptrun\", \"training_percent\": null, \"start_time\": \"2024-07-09T14:26:48.26454Z\", \"end_time\": \"2024-07-09T14:27:54.814104Z\", \"created_time\": \"2024-07-09T14:23:42.469235Z\", \"created_time_dt\": \"2024-07-09T14:23:42.469235Z\", \"duration\": \"0:04:12\", \"iteration\": null, \"goal\": null, \"run_name\": \"Completed\", \"run_properties\": null}, {\"run_id\": \"AutoML_38630b92-f55c-4762-b949-0cdde20d04e0_13\", \"run_number\": 1720535023, \"metric\": null, \"status\": \"Completed\", \"run_type\": null, \"training_percent\": \"100\", \"start_time\": \"2024-07-09T14:32:25.376482Z\", \"end_time\": \"2024-07-09T14:32:33.801552Z\", \"created_time\": \"2024-07-09T14:23:43.101439Z\", \"created_time_dt\": \"2024-07-09T14:23:43.101439Z\", \"duration\": \"0:08:50\", \"iteration\": \"13\", \"goal\": \"AUC_weighted_max\", \"run_name\": \"StandardScalerWrapper, ExtremeRandomTrees\", \"run_properties\": \"copy=True, with_mean=False, with_std=False\", \"primary_metric\": 0.80999567, \"best_metric\": 0.83700676}, {\"run_id\": \"AutoML_38630b92-f55c-4762-b949-0cdde20d04e0_worker_3\", \"run_number\": 1720535024, \"metric\": null, \"status\": \"Completed\", \"run_type\": \"azureml.scriptrun\", \"training_percent\": null, \"start_time\": \"2024-07-09T14:27:12.664814Z\", \"end_time\": \"2024-07-09T14:33:04.419458Z\", \"created_time\": \"2024-07-09T14:23:44.514749Z\", \"created_time_dt\": \"2024-07-09T14:23:44.514749Z\", \"duration\": \"0:09:19\", \"iteration\": null, \"goal\": null, \"run_name\": \"Completed\", \"run_properties\": null}, {\"run_id\": \"AutoML_38630b92-f55c-4762-b949-0cdde20d04e0_17\", \"run_number\": 1720535025, \"metric\": null, \"status\": \"Completed\", \"run_type\": null, \"training_percent\": \"100\", \"start_time\": \"2024-07-09T14:32:41.605868Z\", \"end_time\": \"2024-07-09T14:32:54.069101Z\", \"created_time\": \"2024-07-09T14:23:45.042526Z\", \"created_time_dt\": \"2024-07-09T14:23:45.042526Z\", \"duration\": \"0:09:09\", \"iteration\": \"17\", \"goal\": \"AUC_weighted_max\", \"run_name\": \"StandardScalerWrapper, ExtremeRandomTrees\", \"run_properties\": \"copy=True, with_mean=False, with_std=True\", \"primary_metric\": 0.83210693, \"best_metric\": 0.83700676}, {\"run_id\": \"AutoML_38630b92-f55c-4762-b949-0cdde20d04e0_worker_4\", \"run_number\": 1720535026, \"metric\": null, \"status\": \"Completed\", \"run_type\": \"azureml.scriptrun\", \"training_percent\": null, \"start_time\": \"2024-07-09T14:27:13.094677Z\", \"end_time\": \"2024-07-09T14:33:23.040037Z\", \"created_time\": \"2024-07-09T14:23:46.367441Z\", \"created_time_dt\": \"2024-07-09T14:23:46.367441Z\", \"duration\": \"0:09:36\", \"iteration\": null, \"goal\": null, \"run_name\": \"Completed\", \"run_properties\": null}, {\"run_id\": \"AutoML_38630b92-f55c-4762-b949-0cdde20d04e0_21\", \"run_number\": 1720535569, \"metric\": null, \"status\": \"Completed\", \"run_type\": \"azureml.scriptrun\", \"training_percent\": \"100\", \"start_time\": \"2024-07-09T14:33:18.039085Z\", \"end_time\": \"2024-07-09T14:33:48.991616Z\", \"created_time\": \"2024-07-09T14:32:49.375226Z\", \"created_time_dt\": \"2024-07-09T14:32:49.375226Z\", \"duration\": \"0:00:59\", \"iteration\": \"21\", \"goal\": \"AUC_weighted_max\", \"run_name\": \"StandardScalerWrapper, XGBoostClassifier\", \"run_properties\": \"copy=True, with_mean=False, with_std=False\", \"primary_metric\": 0.81827967, \"best_metric\": 0.83700676}, {\"run_id\": \"AutoML_38630b92-f55c-4762-b949-0cdde20d04e0_23\", \"run_number\": 1720535595, \"metric\": null, \"status\": \"Completed\", \"run_type\": \"azureml.scriptrun\", \"training_percent\": \"100\", \"start_time\": \"2024-07-09T14:33:39.780843Z\", \"end_time\": \"2024-07-09T14:34:16.374676Z\", \"created_time\": \"2024-07-09T14:33:15.727818Z\", \"created_time_dt\": \"2024-07-09T14:33:15.727818Z\", \"duration\": \"0:01:00\", \"iteration\": \"23\", \"goal\": \"AUC_weighted_max\", \"run_name\": \"MaxAbsScaler, RandomForest\", \"run_properties\": null, \"primary_metric\": 0.80428723, \"best_metric\": 0.83700676}, {\"run_id\": \"AutoML_38630b92-f55c-4762-b949-0cdde20d04e0_24\", \"run_number\": 1720535632, \"metric\": null, \"status\": \"Completed\", \"run_type\": \"azureml.scriptrun\", \"training_percent\": \"100\", \"start_time\": \"2024-07-09T14:34:17.124683Z\", \"end_time\": \"2024-07-09T14:34:55.19205Z\", \"created_time\": \"2024-07-09T14:33:52.262319Z\", \"created_time_dt\": \"2024-07-09T14:33:52.262319Z\", \"duration\": \"0:01:02\", \"iteration\": \"24\", \"goal\": \"AUC_weighted_max\", \"run_name\": \"SparseNormalizer, ExtremeRandomTrees\", \"run_properties\": \"norm='l1'\", \"primary_metric\": 0.5, \"best_metric\": 0.83700676}, {\"run_id\": \"AutoML_38630b92-f55c-4762-b949-0cdde20d04e0_26\", \"run_number\": 1720535635, \"metric\": null, \"status\": \"Completed\", \"run_type\": \"azureml.scriptrun\", \"training_percent\": \"100\", \"start_time\": \"2024-07-09T14:34:31.773197Z\", \"end_time\": \"2024-07-09T14:35:05.929102Z\", \"created_time\": \"2024-07-09T14:33:55.052994Z\", \"created_time_dt\": \"2024-07-09T14:33:55.052994Z\", \"duration\": \"0:01:10\", \"iteration\": \"26\", \"goal\": \"AUC_weighted_max\", \"run_name\": \"StandardScalerWrapper, XGBoostClassifier\", \"run_properties\": \"copy=True, with_mean=False, with_std=False\", \"primary_metric\": 0.83852935, \"best_metric\": 0.83852935}, {\"run_id\": \"AutoML_38630b92-f55c-4762-b949-0cdde20d04e0_27\", \"run_number\": 1720535657, \"metric\": null, \"status\": \"Completed\", \"run_type\": \"azureml.scriptrun\", \"training_percent\": \"100\", \"start_time\": \"2024-07-09T14:35:08.452445Z\", \"end_time\": \"2024-07-09T14:35:39.235965Z\", \"created_time\": \"2024-07-09T14:34:17.934171Z\", \"created_time_dt\": \"2024-07-09T14:34:17.934171Z\", \"duration\": \"0:01:21\", \"iteration\": \"27\", \"goal\": \"AUC_weighted_max\", \"run_name\": \"StandardScalerWrapper, XGBoostClassifier\", \"run_properties\": \"copy=True, with_mean=False, with_std=False\", \"primary_metric\": 0.83111494, \"best_metric\": 0.83852935}, {\"run_id\": \"AutoML_38630b92-f55c-4762-b949-0cdde20d04e0_28\", \"run_number\": 1720535694, \"metric\": null, \"status\": \"Completed\", \"run_type\": \"azureml.scriptrun\", \"training_percent\": \"100\", \"start_time\": \"2024-07-09T14:35:15.469235Z\", \"end_time\": \"2024-07-09T14:35:47.79183Z\", \"created_time\": \"2024-07-09T14:34:54.203927Z\", \"created_time_dt\": \"2024-07-09T14:34:54.203927Z\", \"duration\": \"0:00:53\", \"iteration\": \"28\", \"goal\": \"AUC_weighted_max\", \"run_name\": \"SparseNormalizer, XGBoostClassifier\", \"run_properties\": null, \"primary_metric\": 0.7598684, \"best_metric\": 0.83852935}, {\"run_id\": \"AutoML_38630b92-f55c-4762-b949-0cdde20d04e0_29\", \"run_number\": 1720535696, \"metric\": null, \"status\": \"Completed\", \"run_type\": \"azureml.scriptrun\", \"training_percent\": \"100\", \"start_time\": \"2024-07-09T14:35:21.456523Z\", \"end_time\": \"2024-07-09T14:35:50.462428Z\", \"created_time\": \"2024-07-09T14:34:56.548047Z\", \"created_time_dt\": \"2024-07-09T14:34:56.548047Z\", \"duration\": \"0:00:53\", \"iteration\": \"29\", \"goal\": \"AUC_weighted_max\", \"run_name\": \"MaxAbsScaler, LightGBM\", \"run_properties\": null, \"primary_metric\": 0.83663694, \"best_metric\": 0.83852935}, {\"run_id\": \"AutoML_38630b92-f55c-4762-b949-0cdde20d04e0_30\", \"run_number\": 1720535708, \"metric\": null, \"status\": \"Completed\", \"run_type\": \"azureml.scriptrun\", \"training_percent\": \"100\", \"start_time\": \"2024-07-09T14:35:53.469968Z\", \"end_time\": \"2024-07-09T14:36:26.769745Z\", \"created_time\": \"2024-07-09T14:35:08.14676Z\", \"created_time_dt\": \"2024-07-09T14:35:08.14676Z\", \"duration\": \"0:01:18\", \"iteration\": \"30\", \"goal\": \"AUC_weighted_max\", \"run_name\": \"SparseNormalizer, XGBoostClassifier\", \"run_properties\": \"norm='l1'\", \"primary_metric\": 0.7858206, \"best_metric\": 0.83852935}, {\"run_id\": \"AutoML_38630b92-f55c-4762-b949-0cdde20d04e0_31\", \"run_number\": 1720535740, \"metric\": null, \"status\": \"Completed\", \"run_type\": \"azureml.scriptrun\", \"training_percent\": \"100\", \"start_time\": \"2024-07-09T14:36:01.829928Z\", \"end_time\": \"2024-07-09T14:36:30.402262Z\", \"created_time\": \"2024-07-09T14:35:40.664562Z\", \"created_time_dt\": \"2024-07-09T14:35:40.664562Z\", \"duration\": \"0:00:49\", \"iteration\": \"31\", \"goal\": \"AUC_weighted_max\", \"run_name\": \"SparseNormalizer, LightGBM\", \"run_properties\": null, \"primary_metric\": 0.78438374, \"best_metric\": 0.83852935}, {\"run_id\": \"AutoML_38630b92-f55c-4762-b949-0cdde20d04e0_32\", \"run_number\": 1720535749, \"metric\": null, \"status\": \"Completed\", \"run_type\": \"azureml.scriptrun\", \"training_percent\": \"100\", \"start_time\": \"2024-07-09T14:36:12.103574Z\", \"end_time\": \"2024-07-09T14:36:40.467846Z\", \"created_time\": \"2024-07-09T14:35:49.24267Z\", \"created_time_dt\": \"2024-07-09T14:35:49.24267Z\", \"duration\": \"0:00:51\", \"iteration\": \"32\", \"goal\": \"AUC_weighted_max\", \"run_name\": \"MaxAbsScaler, LightGBM\", \"run_properties\": null, \"primary_metric\": 0.83366983, \"best_metric\": 0.83852935}, {\"run_id\": \"AutoML_38630b92-f55c-4762-b949-0cdde20d04e0_33\", \"run_number\": 1720535751, \"metric\": null, \"status\": \"Completed\", \"run_type\": \"azureml.scriptrun\", \"training_percent\": \"100\", \"start_time\": \"2024-07-09T14:36:43.219095Z\", \"end_time\": \"2024-07-09T14:37:14.516823Z\", \"created_time\": \"2024-07-09T14:35:51.903115Z\", \"created_time_dt\": \"2024-07-09T14:35:51.903115Z\", \"duration\": \"0:01:22\", \"iteration\": \"33\", \"goal\": \"AUC_weighted_max\", \"run_name\": \"StandardScalerWrapper, GradientBoosting\", \"run_properties\": \"copy=True, with_mean=False, with_std=True\", \"primary_metric\": 0.80586789, \"best_metric\": 0.83852935}, {\"run_id\": \"AutoML_38630b92-f55c-4762-b949-0cdde20d04e0_34\", \"run_number\": 1720535788, \"metric\": null, \"status\": \"Completed\", \"run_type\": \"azureml.scriptrun\", \"training_percent\": \"100\", \"start_time\": \"2024-07-09T14:36:50.633128Z\", \"end_time\": \"2024-07-09T14:37:20.324141Z\", \"created_time\": \"2024-07-09T14:36:28.150001Z\", \"created_time_dt\": \"2024-07-09T14:36:28.150001Z\", \"duration\": \"0:00:52\", \"iteration\": \"34\", \"goal\": \"AUC_weighted_max\", \"run_name\": \"SparseNormalizer, XGBoostClassifier\", \"run_properties\": null, \"primary_metric\": 0.75243113, \"best_metric\": 0.83852935}, {\"run_id\": \"AutoML_38630b92-f55c-4762-b949-0cdde20d04e0_35\", \"run_number\": 1720535792, \"metric\": null, \"status\": \"Completed\", \"run_type\": \"azureml.scriptrun\", \"training_percent\": \"100\", \"start_time\": \"2024-07-09T14:36:56.045567Z\", \"end_time\": \"2024-07-09T14:37:24.887267Z\", \"created_time\": \"2024-07-09T14:36:32.65271Z\", \"created_time_dt\": \"2024-07-09T14:36:32.65271Z\", \"duration\": \"0:00:52\", \"iteration\": \"35\", \"goal\": \"AUC_weighted_max\", \"run_name\": \"StandardScalerWrapper, XGBoostClassifier\", \"run_properties\": \"copy=True, with_mean=False, with_std=False\", \"primary_metric\": 0.765273, \"best_metric\": 0.83852935}, {\"run_id\": \"AutoML_38630b92-f55c-4762-b949-0cdde20d04e0_36\", \"run_number\": 1720535802, \"metric\": null, \"status\": \"Completed\", \"run_type\": \"azureml.scriptrun\", \"training_percent\": \"100\", \"start_time\": \"2024-07-09T14:37:29.614233Z\", \"end_time\": \"2024-07-09T14:38:04.17663Z\", \"created_time\": \"2024-07-09T14:36:42.077696Z\", \"created_time_dt\": \"2024-07-09T14:36:42.077696Z\", \"duration\": \"0:01:22\", \"iteration\": \"36\", \"goal\": \"AUC_weighted_max\", \"run_name\": \"MaxAbsScaler, GradientBoosting\", \"run_properties\": null, \"primary_metric\": 0.7859449, \"best_metric\": 0.83852935}, {\"run_id\": \"AutoML_38630b92-f55c-4762-b949-0cdde20d04e0_37\", \"run_number\": 1720535836, \"metric\": null, \"status\": \"Completed\", \"run_type\": \"azureml.scriptrun\", \"training_percent\": \"100\", \"start_time\": \"2024-07-09T14:37:37.056213Z\", \"end_time\": \"2024-07-09T14:38:12.128797Z\", \"created_time\": \"2024-07-09T14:37:16.202866Z\", \"created_time_dt\": \"2024-07-09T14:37:16.202866Z\", \"duration\": \"0:00:55\", \"iteration\": \"37\", \"goal\": \"AUC_weighted_max\", \"run_name\": \"StandardScalerWrapper, XGBoostClassifier\", \"run_properties\": \"copy=True, with_mean=False, with_std=False\", \"primary_metric\": 0.82193072, \"best_metric\": 0.83852935}, {\"run_id\": \"AutoML_38630b92-f55c-4762-b949-0cdde20d04e0_38\", \"run_number\": 1720535842, \"metric\": null, \"status\": \"Completed\", \"run_type\": \"azureml.scriptrun\", \"training_percent\": \"100\", \"start_time\": \"2024-07-09T14:37:42.709153Z\", \"end_time\": \"2024-07-09T14:38:12.531477Z\", \"created_time\": \"2024-07-09T14:37:22.136141Z\", \"created_time_dt\": \"2024-07-09T14:37:22.136141Z\", \"duration\": \"0:00:50\", \"iteration\": \"38\", \"goal\": \"AUC_weighted_max\", \"run_name\": \"StandardScalerWrapper, XGBoostClassifier\", \"run_properties\": \"copy=True, with_mean=False, with_std=False\", \"primary_metric\": 0.82804163, \"best_metric\": 0.83852935}, {\"run_id\": \"AutoML_38630b92-f55c-4762-b949-0cdde20d04e0_39\", \"run_number\": 1720535846, \"metric\": null, \"status\": \"Completed\", \"run_type\": \"azureml.scriptrun\", \"training_percent\": \"100\", \"start_time\": \"2024-07-09T14:38:20.627357Z\", \"end_time\": \"2024-07-09T14:38:52.120884Z\", \"created_time\": \"2024-07-09T14:37:26.452419Z\", \"created_time_dt\": \"2024-07-09T14:37:26.452419Z\", \"duration\": \"0:01:25\", \"iteration\": \"39\", \"goal\": \"AUC_weighted_max\", \"run_name\": \"StandardScalerWrapper, XGBoostClassifier\", \"run_properties\": \"copy=True, with_mean=False, with_std=False\", \"primary_metric\": 0.81989569, \"best_metric\": 0.83852935}, {\"run_id\": \"AutoML_38630b92-f55c-4762-b949-0cdde20d04e0_40\", \"run_number\": 1720535886, \"metric\": null, \"status\": \"Completed\", \"run_type\": \"azureml.scriptrun\", \"training_percent\": \"100\", \"start_time\": \"2024-07-09T14:38:28.388423Z\", \"end_time\": \"2024-07-09T14:38:59.259911Z\", \"created_time\": \"2024-07-09T14:38:06.901285Z\", \"created_time_dt\": \"2024-07-09T14:38:06.901285Z\", \"duration\": \"0:00:52\", \"iteration\": \"40\", \"goal\": \"AUC_weighted_max\", \"run_name\": \"TruncatedSVDWrapper, XGBoostClassifier\", \"run_properties\": \"n_components=0.10894736842105263\", \"primary_metric\": 0.81517936, \"best_metric\": 0.83852935}, {\"run_id\": \"AutoML_38630b92-f55c-4762-b949-0cdde20d04e0_42\", \"run_number\": 1720535894, \"metric\": null, \"status\": \"Completed\", \"run_type\": \"azureml.scriptrun\", \"training_percent\": \"100\", \"start_time\": \"2024-07-09T14:38:36.581924Z\", \"end_time\": \"2024-07-09T14:39:05.808007Z\", \"created_time\": \"2024-07-09T14:38:14.056246Z\", \"created_time_dt\": \"2024-07-09T14:38:14.056246Z\", \"duration\": \"0:00:51\", \"iteration\": \"42\", \"goal\": \"AUC_weighted_max\", \"run_name\": \"MaxAbsScaler, LightGBM\", \"run_properties\": null, \"primary_metric\": 0.83742394, \"best_metric\": 0.83852935}, {\"run_id\": \"AutoML_38630b92-f55c-4762-b949-0cdde20d04e0_43\", \"run_number\": 1720535933, \"metric\": null, \"status\": \"Canceled\", \"run_type\": \"azureml.scriptrun\", \"training_percent\": \"100\", \"start_time\": \"2024-07-09T14:39:00.027019Z\", \"end_time\": \"2024-07-09T14:39:04.180782Z\", \"created_time\": \"2024-07-09T14:38:53.838519Z\", \"created_time_dt\": \"2024-07-09T14:38:53.838519Z\", \"duration\": \"0:00:10\", \"iteration\": \"43\", \"goal\": null, \"run_name\": \"Canceled\", \"run_properties\": null}, {\"run_id\": \"AutoML_38630b92-f55c-4762-b949-0cdde20d04e0_44\", \"run_number\": 1720535946, \"metric\": null, \"status\": \"Completed\", \"run_type\": \"azureml.scriptrun\", \"training_percent\": \"100\", \"start_time\": \"2024-07-09T14:39:30.294072Z\", \"end_time\": \"2024-07-09T14:40:26.73611Z\", \"created_time\": \"2024-07-09T14:39:06.825768Z\", \"created_time_dt\": \"2024-07-09T14:39:06.825768Z\", \"duration\": \"0:01:19\", \"iteration\": \"44\", \"goal\": \"AUC_weighted_max\", \"run_name\": \"VotingEnsemble\", \"run_properties\": \"classification_labels=numpy.array([0, 1]\", \"primary_metric\": 0.84975446, \"best_metric\": 0.84975446}], \"children_metrics\": {\"categories\": [0], \"series\": {\"AUC_macro\": [{\"categories\": [\"0\", \"2\", \"5\", \"9\", \"13\", \"17\", \"21\", \"23\", \"24\", \"26\", \"27\", \"28\", \"29\", \"30\", \"31\", \"32\", \"33\", \"34\", \"35\", \"36\", \"37\", \"38\", \"39\", \"40\", \"42\", \"44\"], \"mode\": \"markers\", \"name\": \"AUC_macro\", \"stepped\": false, \"type\": \"scatter\", \"data\": [0.8113442343558885, 0.8370067616114518, 0.7560556027207477, 0.7735380571332474, 0.8099956730410257, 0.8321069335941418, 0.8182796744702365, 0.8042872296936221, 0.5, 0.8385293523567958, 0.8311149412519725, 0.7598684252564913, 0.8366369369192748, 0.7858206021577776, 0.7843837357818759, 0.8336698270669501, 0.8058678890333636, 0.7524311291564805, 0.7652729863521904, 0.7859448992026803, 0.8219307175616797, 0.8280416315530095, 0.8198956944195648, 0.8151793617281582, 0.8374239370397449, 0.8497544606890469]}, {\"categories\": [\"0\", \"2\", \"5\", \"9\", \"13\", \"17\", \"21\", \"23\", \"24\", \"26\", \"27\", \"28\", \"29\", \"30\", \"31\", \"32\", \"33\", \"34\", \"35\", \"36\", \"37\", \"38\", \"39\", \"40\", \"42\", \"44\"], \"mode\": \"lines\", \"name\": \"AUC_macro_max\", \"stepped\": true, \"type\": \"scatter\", \"data\": [0.8113442343558885, 0.8370067616114518, 0.8370067616114518, 0.8370067616114518, 0.8370067616114518, 0.8370067616114518, 0.8370067616114518, 0.8370067616114518, 0.8370067616114518, 0.8385293523567958, 0.8385293523567958, 0.8385293523567958, 0.8385293523567958, 0.8385293523567958, 0.8385293523567958, 0.8385293523567958, 0.8385293523567958, 0.8385293523567958, 0.8385293523567958, 0.8385293523567958, 0.8385293523567958, 0.8385293523567958, 0.8385293523567958, 0.8385293523567958, 0.8385293523567958, 0.8497544606890469]}], \"log_loss\": [{\"categories\": [\"0\", \"2\", \"5\", \"9\", \"13\", \"17\", \"21\", \"23\", \"24\", \"26\", \"27\", \"28\", \"29\", \"30\", \"31\", \"32\", \"33\", \"34\", \"35\", \"36\", \"37\", \"38\", \"39\", \"40\", \"42\", \"44\"], \"mode\": \"markers\", \"name\": \"log_loss\", \"stepped\": false, \"type\": \"scatter\", \"data\": [1.3236167842283624, 0.495605104007394, 0.6783582134949653, 1.3429126228536146, 0.6323991885147773, 0.7121568144386599, 0.6325517405670706, 0.9006908505548126, 0.6948020013527962, 0.5491684900591511, 0.504701122241849, 1.789165165691542, 0.5156393435958777, 0.6749658336312006, 0.6785182124419644, 0.4966797357984015, 0.562102981627403, 1.6361562078293659, 1.626067711234016, 0.6334069222965599, 0.7703927818603643, 0.5476629815910365, 0.7222804570215909, 0.6219478022888951, 0.49890651807163466, 0.5648993725889621]}, {\"categories\": [\"0\", \"2\", \"5\", \"9\", \"13\", \"17\", \"21\", \"23\", \"24\", \"26\", \"27\", \"28\", \"29\", \"30\", \"31\", \"32\", \"33\", \"34\", \"35\", \"36\", \"37\", \"38\", \"39\", \"40\", \"42\", \"44\"], \"mode\": \"lines\", \"name\": \"log_loss_min\", \"stepped\": true, \"type\": \"scatter\", \"data\": [1.3236167842283624, 0.495605104007394, 0.495605104007394, 0.495605104007394, 0.495605104007394, 0.495605104007394, 0.495605104007394, 0.495605104007394, 0.495605104007394, 0.495605104007394, 0.495605104007394, 0.495605104007394, 0.495605104007394, 0.495605104007394, 0.495605104007394, 0.495605104007394, 0.495605104007394, 0.495605104007394, 0.495605104007394, 0.495605104007394, 0.495605104007394, 0.495605104007394, 0.495605104007394, 0.495605104007394, 0.495605104007394, 0.495605104007394]}], \"f1_score_weighted\": [{\"categories\": [\"0\", \"2\", \"5\", \"9\", \"13\", \"17\", \"21\", \"23\", \"24\", \"26\", \"27\", \"28\", \"29\", \"30\", \"31\", \"32\", \"33\", \"34\", \"35\", \"36\", \"37\", \"38\", \"39\", \"40\", \"42\", \"44\"], \"mode\": \"markers\", \"name\": \"f1_score_weighted\", \"stepped\": false, \"type\": \"scatter\", \"data\": [0.5279877329638851, 0.7655519485336584, 0.6166009086412421, 0.3329792654837984, 0.726238439258261, 0.7110709023713433, 0.6354345269909937, 0.5775945370140477, 0.31587867744639875, 0.7195708608603512, 0.7495753198793731, 0.472771226896723, 0.7464581173228722, 0.6375761256359738, 0.6356390751599197, 0.7567745918334206, 0.7553625556101513, 0.47448502401393433, 0.4932737522559204, 0.713219519341501, 0.5790450473199213, 0.7246187023507572, 0.6264057817587023, 0.5936486992111243, 0.75277647487073, 0.6766432974040417]}, {\"categories\": [\"0\", \"2\", \"5\", \"9\", \"13\", \"17\", \"21\", \"23\", \"24\", \"26\", \"27\", \"28\", \"29\", \"30\", \"31\", \"32\", \"33\", \"34\", \"35\", \"36\", \"37\", \"38\", \"39\", \"40\", \"42\", \"44\"], \"mode\": \"lines\", \"name\": \"f1_score_weighted_max\", \"stepped\": true, \"type\": \"scatter\", \"data\": [0.5279877329638851, 0.7655519485336584, 0.7655519485336584, 0.7655519485336584, 0.7655519485336584, 0.7655519485336584, 0.7655519485336584, 0.7655519485336584, 0.7655519485336584, 0.7655519485336584, 0.7655519485336584, 0.7655519485336584, 0.7655519485336584, 0.7655519485336584, 0.7655519485336584, 0.7655519485336584, 0.7655519485336584, 0.7655519485336584, 0.7655519485336584, 0.7655519485336584, 0.7655519485336584, 0.7655519485336584, 0.7655519485336584, 0.7655519485336584, 0.7655519485336584, 0.7655519485336584]}], \"AUC_weighted\": [{\"categories\": [\"0\", \"2\", \"5\", \"9\", \"13\", \"17\", \"21\", \"23\", \"24\", \"26\", \"27\", \"28\", \"29\", \"30\", \"31\", \"32\", \"33\", \"34\", \"35\", \"36\", \"37\", \"38\", \"39\", \"40\", \"42\", \"44\"], \"mode\": \"markers\", \"name\": \"AUC_weighted\", \"stepped\": false, \"type\": \"scatter\", \"data\": [0.8113442343558885, 0.8370067616114518, 0.7560556027207477, 0.7735380571332473, 0.8099956730410258, 0.8321069335941418, 0.8182796744702365, 0.8042872296936221, 0.5, 0.8385293523567958, 0.8311149412519725, 0.7598683966891697, 0.8366369369192748, 0.7858206021577777, 0.7843837357818759, 0.83366982706695, 0.8058678890333635, 0.7524311291564805, 0.7652729983832203, 0.7859448992026803, 0.8219307175616796, 0.8280416315530094, 0.8198956944195646, 0.8151793617281583, 0.8374239370397449, 0.849754460689047]}, {\"categories\": [\"0\", \"2\", \"5\", \"9\", \"13\", \"17\", \"21\", \"23\", \"24\", \"26\", \"27\", \"28\", \"29\", \"30\", \"31\", \"32\", \"33\", \"34\", \"35\", \"36\", \"37\", \"38\", \"39\", \"40\", \"42\", \"44\"], \"mode\": \"lines\", \"name\": \"AUC_weighted_max\", \"stepped\": true, \"type\": \"scatter\", \"data\": [0.8113442343558885, 0.8370067616114518, 0.8370067616114518, 0.8370067616114518, 0.8370067616114518, 0.8370067616114518, 0.8370067616114518, 0.8370067616114518, 0.8370067616114518, 0.8385293523567958, 0.8385293523567958, 0.8385293523567958, 0.8385293523567958, 0.8385293523567958, 0.8385293523567958, 0.8385293523567958, 0.8385293523567958, 0.8385293523567958, 0.8385293523567958, 0.8385293523567958, 0.8385293523567958, 0.8385293523567958, 0.8385293523567958, 0.8385293523567958, 0.8385293523567958, 0.849754460689047]}], \"accuracy\": [{\"categories\": [\"0\", \"2\", \"5\", \"9\", \"13\", \"17\", \"21\", \"23\", \"24\", \"26\", \"27\", \"28\", \"29\", \"30\", \"31\", \"32\", \"33\", \"34\", \"35\", \"36\", \"37\", \"38\", \"39\", \"40\", \"42\", \"44\"], \"mode\": \"markers\", \"name\": \"accuracy\", \"stepped\": false, \"type\": \"scatter\", \"data\": [0.5946042623826457, 0.7661762102268845, 0.6369796155542504, 0.4995471987496127, 0.727504486447977, 0.7261832710833234, 0.6586447211581978, 0.6389814846766233, 0.4841553728633928, 0.7245506423434065, 0.7495980108509879, 0.5599289716532354, 0.7475381004651407, 0.6545094625016701, 0.65237168353064, 0.7567421732300914, 0.7568103236156797, 0.5624702001281362, 0.5697598838054645, 0.7143153867607344, 0.6225052055430038, 0.7262913750056414, 0.6531914009718149, 0.6316837178036772, 0.7528003593851866, 0.6923991958003275]}, {\"categories\": [\"0\", \"2\", \"5\", \"9\", \"13\", \"17\", \"21\", \"23\", \"24\", \"26\", \"27\", \"28\", \"29\", \"30\", \"31\", \"32\", \"33\", \"34\", \"35\", \"36\", \"37\", \"38\", \"39\", \"40\", \"42\", \"44\"], \"mode\": \"lines\", \"name\": \"accuracy_max\", \"stepped\": true, \"type\": \"scatter\", \"data\": [0.5946042623826457, 0.7661762102268845, 0.7661762102268845, 0.7661762102268845, 0.7661762102268845, 0.7661762102268845, 0.7661762102268845, 0.7661762102268845, 0.7661762102268845, 0.7661762102268845, 0.7661762102268845, 0.7661762102268845, 0.7661762102268845, 0.7661762102268845, 0.7661762102268845, 0.7661762102268845, 0.7661762102268845, 0.7661762102268845, 0.7661762102268845, 0.7661762102268845, 0.7661762102268845, 0.7661762102268845, 0.7661762102268845, 0.7661762102268845, 0.7661762102268845, 0.7661762102268845]}], \"precision_score_macro\": [{\"categories\": [\"0\", \"2\", \"5\", \"9\", \"13\", \"17\", \"21\", \"23\", \"24\", \"26\", \"27\", \"28\", \"29\", \"30\", \"31\", \"32\", \"33\", \"34\", \"35\", \"36\", \"37\", \"38\", \"39\", \"40\", \"42\", \"44\"], \"mode\": \"markers\", \"name\": \"precision_score_macro\", \"stepped\": false, \"type\": \"scatter\", \"data\": [0.705311083882858, 0.7683558394033245, 0.6738712407453462, 0.24977359937481375, 0.7335397816007442, 0.7865266508905849, 0.7090422584956286, 0.783258216866832, 0.24207768643169894, 0.7420937141184152, 0.7501298957146156, 0.6757220418669132, 0.7514826893852131, 0.6910597969903125, 0.687216802749653, 0.7567470946710788, 0.7633472249315756, 0.688347193750223, 0.6755119238282928, 0.7190757159945824, 0.6988225192344497, 0.7321685656920427, 0.7048540858720662, 0.7104565695676153, 0.7529923005312544, 0.7377562718896236]}, {\"categories\": [\"0\", \"2\", \"5\", \"9\", \"13\", \"17\", \"21\", \"23\", \"24\", \"26\", \"27\", \"28\", \"29\", \"30\", \"31\", \"32\", \"33\", \"34\", \"35\", \"36\", \"37\", \"38\", \"39\", \"40\", \"42\", \"44\"], \"mode\": \"lines\", \"name\": \"precision_score_macro_max\", \"stepped\": true, \"type\": \"scatter\", \"data\": [0.705311083882858, 0.7683558394033245, 0.7683558394033245, 0.7683558394033245, 0.7683558394033245, 0.7865266508905849, 0.7865266508905849, 0.7865266508905849, 0.7865266508905849, 0.7865266508905849, 0.7865266508905849, 0.7865266508905849, 0.7865266508905849, 0.7865266508905849, 0.7865266508905849, 0.7865266508905849, 0.7865266508905849, 0.7865266508905849, 0.7865266508905849, 0.7865266508905849, 0.7865266508905849, 0.7865266508905849, 0.7865266508905849, 0.7865266508905849, 0.7865266508905849, 0.7865266508905849]}], \"precision_score_micro\": [{\"categories\": [\"0\", \"2\", \"5\", \"9\", \"13\", \"17\", \"21\", \"23\", \"24\", \"26\", \"27\", \"28\", \"29\", \"30\", \"31\", \"32\", \"33\", \"34\", \"35\", \"36\", \"37\", \"38\", \"39\", \"40\", \"42\", \"44\"], \"mode\": \"markers\", \"name\": \"precision_score_micro\", \"stepped\": false, \"type\": \"scatter\", \"data\": [0.5946042623826437, 0.7661762102268913, 0.6369796155542516, 0.4995471987496275, 0.7275044864479822, 0.7261832710833354, 0.6586447211581989, 0.6389814846766373, 0.4841553728633979, 0.7245506423434092, 0.7495980108509945, 0.5599289716532332, 0.7475381004651445, 0.6545094625016716, 0.6523716835306417, 0.7567421732300974, 0.7568103236156876, 0.5624702001281339, 0.5697598838054627, 0.7143153867607426, 0.6225052055430033, 0.7262913750056454, 0.6531914009718154, 0.6316837178036765, 0.7528003593851917, 0.6923991958003288]}, {\"categories\": [\"0\", \"2\", \"5\", \"9\", \"13\", \"17\", \"21\", \"23\", \"24\", \"26\", \"27\", \"28\", \"29\", \"30\", \"31\", \"32\", \"33\", \"34\", \"35\", \"36\", \"37\", \"38\", \"39\", \"40\", \"42\", \"44\"], \"mode\": \"lines\", \"name\": \"precision_score_micro_max\", \"stepped\": true, \"type\": \"scatter\", \"data\": [0.5946042623826437, 0.7661762102268913, 0.7661762102268913, 0.7661762102268913, 0.7661762102268913, 0.7661762102268913, 0.7661762102268913, 0.7661762102268913, 0.7661762102268913, 0.7661762102268913, 0.7661762102268913, 0.7661762102268913, 0.7661762102268913, 0.7661762102268913, 0.7661762102268913, 0.7661762102268913, 0.7661762102268913, 0.7661762102268913, 0.7661762102268913, 0.7661762102268913, 0.7661762102268913, 0.7661762102268913, 0.7661762102268913, 0.7661762102268913, 0.7661762102268913, 0.7661762102268913]}], \"balanced_accuracy\": [{\"categories\": [\"0\", \"2\", \"5\", \"9\", \"13\", \"17\", \"21\", \"23\", \"24\", \"26\", \"27\", \"28\", \"29\", \"30\", \"31\", \"32\", \"33\", \"34\", \"35\", \"36\", \"37\", \"38\", \"39\", \"40\", \"42\", \"44\"], \"mode\": \"markers\", \"name\": \"balanced_accuracy\", \"stepped\": false, \"type\": \"scatter\", \"data\": [0.595828495935361, 0.7652854485913461, 0.6380701672133293, 0.5, 0.729697345321347, 0.726211171726893, 0.6600559790360643, 0.6368276195274305, 0.5, 0.7249036431469853, 0.750044522236575, 0.5598561955559709, 0.747314312674668, 0.6547906015398581, 0.6528237187115791, 0.756882259676469, 0.7571123276557234, 0.5624311988485218, 0.5698756780085716, 0.7156673197587409, 0.6243156399037961, 0.726562707034817, 0.6552102206353667, 0.6315911564937401, 0.7528982990331842, 0.6937838832174552]}, {\"categories\": [\"0\", \"2\", \"5\", \"9\", \"13\", \"17\", \"21\", \"23\", \"24\", \"26\", \"27\", \"28\", \"29\", \"30\", \"31\", \"32\", \"33\", \"34\", \"35\", \"36\", \"37\", \"38\", \"39\", \"40\", \"42\", \"44\"], \"mode\": \"lines\", \"name\": \"balanced_accuracy_max\", \"stepped\": true, \"type\": \"scatter\", \"data\": [0.595828495935361, 0.7652854485913461, 0.7652854485913461, 0.7652854485913461, 0.7652854485913461, 0.7652854485913461, 0.7652854485913461, 0.7652854485913461, 0.7652854485913461, 0.7652854485913461, 0.7652854485913461, 0.7652854485913461, 0.7652854485913461, 0.7652854485913461, 0.7652854485913461, 0.7652854485913461, 0.7652854485913461, 0.7652854485913461, 0.7652854485913461, 0.7652854485913461, 0.7652854485913461, 0.7652854485913461, 0.7652854485913461, 0.7652854485913461, 0.7652854485913461, 0.7652854485913461]}], \"recall_score_macro\": [{\"categories\": [\"0\", \"2\", \"5\", \"9\", \"13\", \"17\", \"21\", \"23\", \"24\", \"26\", \"27\", \"28\", \"29\", \"30\", \"31\", \"32\", \"33\", \"34\", \"35\", \"36\", \"37\", \"38\", \"39\", \"40\", \"42\", \"44\"], \"mode\": \"markers\", \"name\": \"recall_score_macro\", \"stepped\": false, \"type\": \"scatter\", \"data\": [0.595828495935361, 0.7652854485913461, 0.6380701672133293, 0.5, 0.729697345321347, 0.726211171726893, 0.6600559790360643, 0.6368276195274305, 0.5, 0.7249036431469853, 0.750044522236575, 0.5598561955559709, 0.747314312674668, 0.6547906015398581, 0.6528237187115791, 0.756882259676469, 0.7571123276557234, 0.5624311988485218, 0.5698756780085716, 0.7156673197587409, 0.6243156399037961, 0.726562707034817, 0.6552102206353667, 0.6315911564937401, 0.7528982990331842, 0.6937838832174552]}, {\"categories\": [\"0\", \"2\", \"5\", \"9\", \"13\", \"17\", \"21\", \"23\", \"24\", \"26\", \"27\", \"28\", \"29\", \"30\", \"31\", \"32\", \"33\", \"34\", \"35\", \"36\", \"37\", \"38\", \"39\", \"40\", \"42\", \"44\"], \"mode\": \"lines\", \"name\": \"recall_score_macro_max\", \"stepped\": true, \"type\": \"scatter\", \"data\": [0.595828495935361, 0.7652854485913461, 0.7652854485913461, 0.7652854485913461, 0.7652854485913461, 0.7652854485913461, 0.7652854485913461, 0.7652854485913461, 0.7652854485913461, 0.7652854485913461, 0.7652854485913461, 0.7652854485913461, 0.7652854485913461, 0.7652854485913461, 0.7652854485913461, 0.7652854485913461, 0.7652854485913461, 0.7652854485913461, 0.7652854485913461, 0.7652854485913461, 0.7652854485913461, 0.7652854485913461, 0.7652854485913461, 0.7652854485913461, 0.7652854485913461, 0.7652854485913461]}], \"weighted_accuracy\": [{\"categories\": [\"0\", \"2\", \"5\", \"9\", \"13\", \"17\", \"21\", \"23\", \"24\", \"26\", \"27\", \"28\", \"29\", \"30\", \"31\", \"32\", \"33\", \"34\", \"35\", \"36\", \"37\", \"38\", \"39\", \"40\", \"42\", \"44\"], \"mode\": \"markers\", \"name\": \"weighted_accuracy\", \"stepped\": false, \"type\": \"scatter\", \"data\": [0.9596125507163311, 0.7257294476416629, 0.8618575158933233, 0.002628412456154654, 0.7549606186826276, 0.4982114209236203, 0.9000063070828941, 0.28411810026093176, 0.4996693507287074, 0.8577974599440812, 0.7324959817424217, 0.9639189847489625, 0.812469574126418, 0.8707840520941956, 0.8654079064877056, 0.7466248406170258, 0.6786785979358009, 0.9690547015088229, 0.9555936357558317, 0.6619717930091076, 0.9272508006842417, 0.8049765651918809, 0.9001821710079563, 0.9362962389536815, 0.7707542308750976, 0.9041000302724417]}, {\"categories\": [\"0\", \"2\", \"5\", \"9\", \"13\", \"17\", \"21\", \"23\", \"24\", \"26\", \"27\", \"28\", \"29\", \"30\", \"31\", \"32\", \"33\", \"34\", \"35\", \"36\", \"37\", \"38\", \"39\", \"40\", \"42\", \"44\"], \"mode\": \"lines\", \"name\": \"weighted_accuracy_max\", \"stepped\": true, \"type\": \"scatter\", \"data\": [0.9596125507163311, 0.9596125507163311, 0.9596125507163311, 0.9596125507163311, 0.9596125507163311, 0.9596125507163311, 0.9596125507163311, 0.9596125507163311, 0.9596125507163311, 0.9596125507163311, 0.9596125507163311, 0.9639189847489625, 0.9639189847489625, 0.9639189847489625, 0.9639189847489625, 0.9639189847489625, 0.9639189847489625, 0.9690547015088229, 0.9690547015088229, 0.9690547015088229, 0.9690547015088229, 0.9690547015088229, 0.9690547015088229, 0.9690547015088229, 0.9690547015088229, 0.9690547015088229]}], \"average_precision_score_macro\": [{\"categories\": [\"0\", \"2\", \"5\", \"9\", \"13\", \"17\", \"21\", \"23\", \"24\", \"26\", \"27\", \"28\", \"29\", \"30\", \"31\", \"32\", \"33\", \"34\", \"35\", \"36\", \"37\", \"38\", \"39\", \"40\", \"42\", \"44\"], \"mode\": \"markers\", \"name\": \"average_precision_score_macro\", \"stepped\": false, \"type\": \"scatter\", \"data\": [0.8082112691341623, 0.8233009863830814, 0.7576208983967437, 0.7633677572693356, 0.7983683595486226, 0.8275692201999423, 0.8121712690549425, 0.7971959127414628, 0.5, 0.8323735954681406, 0.8189703229187003, 0.7495040338948552, 0.8293352380225202, 0.7792855820544038, 0.7762643915246323, 0.8253501490316506, 0.791829873071237, 0.7453683163916558, 0.7606672002021939, 0.7726649679205473, 0.8199534455227518, 0.8188480574806161, 0.8167066466113514, 0.8079132888409966, 0.8306425110396989, 0.8423616661182287]}, {\"categories\": [\"0\", \"2\", \"5\", \"9\", \"13\", \"17\", \"21\", \"23\", \"24\", \"26\", \"27\", \"28\", \"29\", \"30\", \"31\", \"32\", \"33\", \"34\", \"35\", \"36\", \"37\", \"38\", \"39\", \"40\", \"42\", \"44\"], \"mode\": \"lines\", \"name\": \"average_precision_score_macro_max\", \"stepped\": true, \"type\": \"scatter\", \"data\": [0.8082112691341623, 0.8233009863830814, 0.8233009863830814, 0.8233009863830814, 0.8233009863830814, 0.8275692201999423, 0.8275692201999423, 0.8275692201999423, 0.8275692201999423, 0.8323735954681406, 0.8323735954681406, 0.8323735954681406, 0.8323735954681406, 0.8323735954681406, 0.8323735954681406, 0.8323735954681406, 0.8323735954681406, 0.8323735954681406, 0.8323735954681406, 0.8323735954681406, 0.8323735954681406, 0.8323735954681406, 0.8323735954681406, 0.8323735954681406, 0.8323735954681406, 0.8423616661182287]}], \"recall_score_weighted\": [{\"categories\": [\"0\", \"2\", \"5\", \"9\", \"13\", \"17\", \"21\", \"23\", \"24\", \"26\", \"27\", \"28\", \"29\", \"30\", \"31\", \"32\", \"33\", \"34\", \"35\", \"36\", \"37\", \"38\", \"39\", \"40\", \"42\", \"44\"], \"mode\": \"markers\", \"name\": \"recall_score_weighted\", \"stepped\": false, \"type\": \"scatter\", \"data\": [0.5946042623826394, 0.7661762102268914, 0.6369796155542492, 0.4995471987496224, 0.7275044864479823, 0.7261832710833382, 0.6586447211581954, 0.6389814846766377, 0.48415537286339294, 0.7245506423434074, 0.7495980108509943, 0.5599289716532283, 0.7475381004651438, 0.654509462501669, 0.652371683530639, 0.7567421732300974, 0.7568103236156885, 0.5624702001281288, 0.5697598838054581, 0.7143153867607429, 0.6225052055429996, 0.7262913750056443, 0.6531914009718125, 0.6316837178036727, 0.7528003593851917, 0.6923991958003257]}, {\"categories\": [\"0\", \"2\", \"5\", \"9\", \"13\", \"17\", \"21\", \"23\", \"24\", \"26\", \"27\", \"28\", \"29\", \"30\", \"31\", \"32\", \"33\", \"34\", \"35\", \"36\", \"37\", \"38\", \"39\", \"40\", \"42\", \"44\"], \"mode\": \"lines\", \"name\": \"recall_score_weighted_max\", \"stepped\": true, \"type\": \"scatter\", \"data\": [0.5946042623826394, 0.7661762102268914, 0.7661762102268914, 0.7661762102268914, 0.7661762102268914, 0.7661762102268914, 0.7661762102268914, 0.7661762102268914, 0.7661762102268914, 0.7661762102268914, 0.7661762102268914, 0.7661762102268914, 0.7661762102268914, 0.7661762102268914, 0.7661762102268914, 0.7661762102268914, 0.7661762102268914, 0.7661762102268914, 0.7661762102268914, 0.7661762102268914, 0.7661762102268914, 0.7661762102268914, 0.7661762102268914, 0.7661762102268914, 0.7661762102268914, 0.7661762102268914]}], \"matthews_correlation\": [{\"categories\": [\"0\", \"2\", \"5\", \"9\", \"13\", \"17\", \"21\", \"23\", \"24\", \"26\", \"27\", \"28\", \"29\", \"30\", \"31\", \"32\", \"33\", \"34\", \"35\", \"36\", \"37\", \"38\", \"39\", \"40\", \"42\", \"44\"], \"mode\": \"markers\", \"name\": \"matthews_correlation\", \"stepped\": false, \"type\": \"scatter\", \"data\": [0.27744332372818165, 0.5336225752954968, 0.30961227523072943, 0.0, 0.4632107322415395, 0.5091211656388341, 0.36519718554391584, 0.38118125971218403, 0.0, 0.4666760485584287, 0.5001743766578941, 0.20498613657684378, 0.4987766392817835, 0.34392318751294954, 0.338251687720581, 0.5136293271366755, 0.5204221804643787, 0.21668470702965104, 0.22122030541501636, 0.4347175792270521, 0.312040347040527, 0.4586966836409915, 0.3552820741494671, 0.3328298219738274, 0.5058905695203126, 0.4288477586671458]}, {\"categories\": [\"0\", \"2\", \"5\", \"9\", \"13\", \"17\", \"21\", \"23\", \"24\", \"26\", \"27\", \"28\", \"29\", \"30\", \"31\", \"32\", \"33\", \"34\", \"35\", \"36\", \"37\", \"38\", \"39\", \"40\", \"42\", \"44\"], \"mode\": \"lines\", \"name\": \"matthews_correlation_max\", \"stepped\": true, \"type\": \"scatter\", \"data\": [0.27744332372818165, 0.5336225752954968, 0.5336225752954968, 0.5336225752954968, 0.5336225752954968, 0.5336225752954968, 0.5336225752954968, 0.5336225752954968, 0.5336225752954968, 0.5336225752954968, 0.5336225752954968, 0.5336225752954968, 0.5336225752954968, 0.5336225752954968, 0.5336225752954968, 0.5336225752954968, 0.5336225752954968, 0.5336225752954968, 0.5336225752954968, 0.5336225752954968, 0.5336225752954968, 0.5336225752954968, 0.5336225752954968, 0.5336225752954968, 0.5336225752954968, 0.5336225752954968]}], \"f1_score_macro\": [{\"categories\": [\"0\", \"2\", \"5\", \"9\", \"13\", \"17\", \"21\", \"23\", \"24\", \"26\", \"27\", \"28\", \"29\", \"30\", \"31\", \"32\", \"33\", \"34\", \"35\", \"36\", \"37\", \"38\", \"39\", \"40\", \"42\", \"44\"], \"mode\": \"markers\", \"name\": \"f1_score_macro\", \"stepped\": false, \"type\": \"scatter\", \"data\": [0.5290751834349074, 0.7651704681356521, 0.6169747859898373, 0.33305756600772657, 0.7266549313255188, 0.7109022789264148, 0.6360897258231177, 0.5752857783879798, 0.3262160341401969, 0.7194837321197725, 0.7495005008615615, 0.4727022431112367, 0.7461920455344744, 0.6373613471456865, 0.6356271132591249, 0.7566242533591967, 0.7552475835576941, 0.4744262919318937, 0.49332116850411734, 0.7134026730492035, 0.5802168363673011, 0.7245179026129471, 0.6274742235059038, 0.5933514381458075, 0.752611664840384, 0.6771040446085819]}, {\"categories\": [\"0\", \"2\", \"5\", \"9\", \"13\", \"17\", \"21\", \"23\", \"24\", \"26\", \"27\", \"28\", \"29\", \"30\", \"31\", \"32\", \"33\", \"34\", \"35\", \"36\", \"37\", \"38\", \"39\", \"40\", \"42\", \"44\"], \"mode\": \"lines\", \"name\": \"f1_score_macro_max\", \"stepped\": true, \"type\": \"scatter\", \"data\": [0.5290751834349074, 0.7651704681356521, 0.7651704681356521, 0.7651704681356521, 0.7651704681356521, 0.7651704681356521, 0.7651704681356521, 0.7651704681356521, 0.7651704681356521, 0.7651704681356521, 0.7651704681356521, 0.7651704681356521, 0.7651704681356521, 0.7651704681356521, 0.7651704681356521, 0.7651704681356521, 0.7651704681356521, 0.7651704681356521, 0.7651704681356521, 0.7651704681356521, 0.7651704681356521, 0.7651704681356521, 0.7651704681356521, 0.7651704681356521, 0.7651704681356521, 0.7651704681356521]}], \"norm_macro_recall\": [{\"categories\": [\"0\", \"2\", \"5\", \"9\", \"13\", \"17\", \"21\", \"23\", \"24\", \"26\", \"27\", \"28\", \"29\", \"30\", \"31\", \"32\", \"33\", \"34\", \"35\", \"36\", \"37\", \"38\", \"39\", \"40\", \"42\", \"44\"], \"mode\": \"markers\", \"name\": \"norm_macro_recall\", \"stepped\": false, \"type\": \"scatter\", \"data\": [0.1916569918707186, 0.5305708971826711, 0.2761403344266474, 0.0, 0.4593946906426749, 0.4524223434537653, 0.32011195807212056, 0.27365523905485156, 0.0, 0.4498072862939584, 0.5000890444731294, 0.11971239111193899, 0.49462862534931995, 0.3095812030797057, 0.30564743742314693, 0.5137645193529179, 0.5142246553114236, 0.12486239769704088, 0.13975135601713973, 0.43133463951745776, 0.2486312798075866, 0.4531254140696177, 0.3104204412707252, 0.26318231298747463, 0.5057965980663497, 0.3875677664349022]}, {\"categories\": [\"0\", \"2\", \"5\", \"9\", \"13\", \"17\", \"21\", \"23\", \"24\", \"26\", \"27\", \"28\", \"29\", \"30\", \"31\", \"32\", \"33\", \"34\", \"35\", \"36\", \"37\", \"38\", \"39\", \"40\", \"42\", \"44\"], \"mode\": \"lines\", \"name\": \"norm_macro_recall_max\", \"stepped\": true, \"type\": \"scatter\", \"data\": [0.1916569918707186, 0.5305708971826711, 0.5305708971826711, 0.5305708971826711, 0.5305708971826711, 0.5305708971826711, 0.5305708971826711, 0.5305708971826711, 0.5305708971826711, 0.5305708971826711, 0.5305708971826711, 0.5305708971826711, 0.5305708971826711, 0.5305708971826711, 0.5305708971826711, 0.5305708971826711, 0.5305708971826711, 0.5305708971826711, 0.5305708971826711, 0.5305708971826711, 0.5305708971826711, 0.5305708971826711, 0.5305708971826711, 0.5305708971826711, 0.5305708971826711, 0.5305708971826711]}], \"AUC_micro\": [{\"categories\": [\"0\", \"2\", \"5\", \"9\", \"13\", \"17\", \"21\", \"23\", \"24\", \"26\", \"27\", \"28\", \"29\", \"30\", \"31\", \"32\", \"33\", \"34\", \"35\", \"36\", \"37\", \"38\", \"39\", \"40\", \"42\", \"44\"], \"mode\": \"markers\", \"name\": \"AUC_micro\", \"stepped\": false, \"type\": \"scatter\", \"data\": [0.6851874070550139, 0.8434648364302513, 0.7017987039490343, 0.6361790036542386, 0.7990792077284725, 0.7935527834770744, 0.7408493865172459, 0.6930438663759049, 0.4841553728633928, 0.7924015582537387, 0.8325045062051215, 0.6476534170202459, 0.8228128505980266, 0.7296944031372976, 0.7330880976362987, 0.8371330773125756, 0.8187928137690248, 0.642322859745186, 0.6529990455714395, 0.7854509192762638, 0.7228180876414388, 0.8112138095082759, 0.7426359815939992, 0.7108591342377073, 0.8367449557137541, 0.7736016978679479]}, {\"categories\": [\"0\", \"2\", \"5\", \"9\", \"13\", \"17\", \"21\", \"23\", \"24\", \"26\", \"27\", \"28\", \"29\", \"30\", \"31\", \"32\", \"33\", \"34\", \"35\", \"36\", \"37\", \"38\", \"39\", \"40\", \"42\", \"44\"], \"mode\": \"lines\", \"name\": \"AUC_micro_max\", \"stepped\": true, \"type\": \"scatter\", \"data\": [0.6851874070550139, 0.8434648364302513, 0.8434648364302513, 0.8434648364302513, 0.8434648364302513, 0.8434648364302513, 0.8434648364302513, 0.8434648364302513, 0.8434648364302513, 0.8434648364302513, 0.8434648364302513, 0.8434648364302513, 0.8434648364302513, 0.8434648364302513, 0.8434648364302513, 0.8434648364302513, 0.8434648364302513, 0.8434648364302513, 0.8434648364302513, 0.8434648364302513, 0.8434648364302513, 0.8434648364302513, 0.8434648364302513, 0.8434648364302513, 0.8434648364302513, 0.8434648364302513]}], \"average_precision_score_micro\": [{\"categories\": [\"0\", \"2\", \"5\", \"9\", \"13\", \"17\", \"21\", \"23\", \"24\", \"26\", \"27\", \"28\", \"29\", \"30\", \"31\", \"32\", \"33\", \"34\", \"35\", \"36\", \"37\", \"38\", \"39\", \"40\", \"42\", \"44\"], \"mode\": \"markers\", \"name\": \"average_precision_score_micro\", \"stepped\": false, \"type\": \"scatter\", \"data\": [0.7145893957513362, 0.8380985843481816, 0.7162500677160483, 0.6344021189932061, 0.7918071781864724, 0.7887757058421834, 0.755012544899712, 0.6865337949605225, 0.49232894366976687, 0.7973740075302668, 0.8288273732074904, 0.6663371010333443, 0.82247507694466, 0.736512160013734, 0.7379679910489967, 0.837045941991258, 0.8111181330183491, 0.6621615109151178, 0.6789099912149694, 0.774001966624952, 0.7453126721785044, 0.8117950944930836, 0.759653629848601, 0.7279128150572863, 0.8372584112496118, 0.7816385608903232]}, {\"categories\": [\"0\", \"2\", \"5\", \"9\", \"13\", \"17\", \"21\", \"23\", \"24\", \"26\", \"27\", \"28\", \"29\", \"30\", \"31\", \"32\", \"33\", \"34\", \"35\", \"36\", \"37\", \"38\", \"39\", \"40\", \"42\", \"44\"], \"mode\": \"lines\", \"name\": \"average_precision_score_micro_max\", \"stepped\": true, \"type\": \"scatter\", \"data\": [0.7145893957513362, 0.8380985843481816, 0.8380985843481816, 0.8380985843481816, 0.8380985843481816, 0.8380985843481816, 0.8380985843481816, 0.8380985843481816, 0.8380985843481816, 0.8380985843481816, 0.8380985843481816, 0.8380985843481816, 0.8380985843481816, 0.8380985843481816, 0.8380985843481816, 0.8380985843481816, 0.8380985843481816, 0.8380985843481816, 0.8380985843481816, 0.8380985843481816, 0.8380985843481816, 0.8380985843481816, 0.8380985843481816, 0.8380985843481816, 0.8380985843481816, 0.8380985843481816]}], \"recall_score_micro\": [{\"categories\": [\"0\", \"2\", \"5\", \"9\", \"13\", \"17\", \"21\", \"23\", \"24\", \"26\", \"27\", \"28\", \"29\", \"30\", \"31\", \"32\", \"33\", \"34\", \"35\", \"36\", \"37\", \"38\", \"39\", \"40\", \"42\", \"44\"], \"mode\": \"markers\", \"name\": \"recall_score_micro\", \"stepped\": false, \"type\": \"scatter\", \"data\": [0.5946042623826394, 0.7661762102268914, 0.6369796155542492, 0.4995471987496224, 0.7275044864479823, 0.7261832710833382, 0.6586447211581955, 0.6389814846766377, 0.48415537286339294, 0.7245506423434074, 0.7495980108509943, 0.5599289716532283, 0.7475381004651438, 0.654509462501669, 0.652371683530639, 0.7567421732300974, 0.7568103236156883, 0.5624702001281288, 0.5697598838054581, 0.7143153867607429, 0.6225052055429996, 0.7262913750056444, 0.6531914009718125, 0.6316837178036727, 0.7528003593851917, 0.6923991958003257]}, {\"categories\": [\"0\", \"2\", \"5\", \"9\", \"13\", \"17\", \"21\", \"23\", \"24\", \"26\", \"27\", \"28\", \"29\", \"30\", \"31\", \"32\", \"33\", \"34\", \"35\", \"36\", \"37\", \"38\", \"39\", \"40\", \"42\", \"44\"], \"mode\": \"lines\", \"name\": \"recall_score_micro_max\", \"stepped\": true, \"type\": \"scatter\", \"data\": [0.5946042623826394, 0.7661762102268914, 0.7661762102268914, 0.7661762102268914, 0.7661762102268914, 0.7661762102268914, 0.7661762102268914, 0.7661762102268914, 0.7661762102268914, 0.7661762102268914, 0.7661762102268914, 0.7661762102268914, 0.7661762102268914, 0.7661762102268914, 0.7661762102268914, 0.7661762102268914, 0.7661762102268914, 0.7661762102268914, 0.7661762102268914, 0.7661762102268914, 0.7661762102268914, 0.7661762102268914, 0.7661762102268914, 0.7661762102268914, 0.7661762102268914, 0.7661762102268914]}], \"average_precision_score_weighted\": [{\"categories\": [\"0\", \"2\", \"5\", \"9\", \"13\", \"17\", \"21\", \"23\", \"24\", \"26\", \"27\", \"28\", \"29\", \"30\", \"31\", \"32\", \"33\", \"34\", \"35\", \"36\", \"37\", \"38\", \"39\", \"40\", \"42\", \"44\"], \"mode\": \"markers\", \"name\": \"average_precision_score_weighted\", \"stepped\": false, \"type\": \"scatter\", \"data\": [0.8085709882799561, 0.8235306509589329, 0.7578175660254935, 0.7635915036688077, 0.7985767665982966, 0.8278268897839107, 0.8122721071259084, 0.7975185346670338, 0.5005025144761408, 0.8325879174567565, 0.819350219375525, 0.7500385366550069, 0.8294962984926502, 0.7797062920929039, 0.7764165839296754, 0.8256463346166845, 0.7918758390064065, 0.7456794870906898, 0.7608632550192043, 0.7727780356620271, 0.8201462055010086, 0.819316496905311, 0.8169520642218397, 0.8080376003170391, 0.83095875601367, 0.842608294811264]}, {\"categories\": [\"0\", \"2\", \"5\", \"9\", \"13\", \"17\", \"21\", \"23\", \"24\", \"26\", \"27\", \"28\", \"29\", \"30\", \"31\", \"32\", \"33\", \"34\", \"35\", \"36\", \"37\", \"38\", \"39\", \"40\", \"42\", \"44\"], \"mode\": \"lines\", \"name\": \"average_precision_score_weighted_max\", \"stepped\": true, \"type\": \"scatter\", \"data\": [0.8085709882799561, 0.8235306509589329, 0.8235306509589329, 0.8235306509589329, 0.8235306509589329, 0.8278268897839107, 0.8278268897839107, 0.8278268897839107, 0.8278268897839107, 0.8325879174567565, 0.8325879174567565, 0.8325879174567565, 0.8325879174567565, 0.8325879174567565, 0.8325879174567565, 0.8325879174567565, 0.8325879174567565, 0.8325879174567565, 0.8325879174567565, 0.8325879174567565, 0.8325879174567565, 0.8325879174567565, 0.8325879174567565, 0.8325879174567565, 0.8325879174567565, 0.842608294811264]}], \"precision_score_weighted\": [{\"categories\": [\"0\", \"2\", \"5\", \"9\", \"13\", \"17\", \"21\", \"23\", \"24\", \"26\", \"27\", \"28\", \"29\", \"30\", \"31\", \"32\", \"33\", \"34\", \"35\", \"36\", \"37\", \"38\", \"39\", \"40\", \"42\", \"44\"], \"mode\": \"markers\", \"name\": \"precision_score_weighted\", \"stepped\": false, \"type\": \"scatter\", \"data\": [0.705800553259797, 0.7682130266450011, 0.6746197742833342, 0.24979845598769534, 0.7349303243832539, 0.786772028427861, 0.7097592707821362, 0.7826286635535428, 0.23440663010146573, 0.7426710130779721, 0.7507264659047188, 0.6758940214699264, 0.7517829438351427, 0.6919519641820502, 0.6878794752518669, 0.7571876454964466, 0.7638866865542793, 0.6886851230627333, 0.67594037404844, 0.7200912281767953, 0.6996270015288741, 0.7326521516782729, 0.7056214718172137, 0.7110875981672692, 0.7534197427687475, 0.7387274717513695]}, {\"categories\": [\"0\", \"2\", \"5\", \"9\", \"13\", \"17\", \"21\", \"23\", \"24\", \"26\", \"27\", \"28\", \"29\", \"30\", \"31\", \"32\", \"33\", \"34\", \"35\", \"36\", \"37\", \"38\", \"39\", \"40\", \"42\", \"44\"], \"mode\": \"lines\", \"name\": \"precision_score_weighted_max\", \"stepped\": true, \"type\": \"scatter\", \"data\": [0.705800553259797, 0.7682130266450011, 0.7682130266450011, 0.7682130266450011, 0.7682130266450011, 0.786772028427861, 0.786772028427861, 0.786772028427861, 0.786772028427861, 0.786772028427861, 0.786772028427861, 0.786772028427861, 0.786772028427861, 0.786772028427861, 0.786772028427861, 0.786772028427861, 0.786772028427861, 0.786772028427861, 0.786772028427861, 0.786772028427861, 0.786772028427861, 0.786772028427861, 0.786772028427861, 0.786772028427861, 0.786772028427861, 0.786772028427861]}], \"f1_score_micro\": [{\"categories\": [\"0\", \"2\", \"5\", \"9\", \"13\", \"17\", \"21\", \"23\", \"24\", \"26\", \"27\", \"28\", \"29\", \"30\", \"31\", \"32\", \"33\", \"34\", \"35\", \"36\", \"37\", \"38\", \"39\", \"40\", \"42\", \"44\"], \"mode\": \"markers\", \"name\": \"f1_score_micro\", \"stepped\": false, \"type\": \"scatter\", \"data\": [0.5946042623826416, 0.7661762102268914, 0.6369796155542504, 0.49954719874962494, 0.7275044864479823, 0.7261832710833368, 0.6586447211581973, 0.6389814846766375, 0.4841553728633954, 0.7245506423434083, 0.7495980108509944, 0.5599289716532307, 0.7475381004651441, 0.6545094625016703, 0.6523716835306403, 0.7567421732300974, 0.756810323615688, 0.5624702001281313, 0.5697598838054605, 0.7143153867607428, 0.6225052055430015, 0.726291375005645, 0.6531914009718138, 0.6316837178036746, 0.7528003593851917, 0.6923991958003273]}, {\"categories\": [\"0\", \"2\", \"5\", \"9\", \"13\", \"17\", \"21\", \"23\", \"24\", \"26\", \"27\", \"28\", \"29\", \"30\", \"31\", \"32\", \"33\", \"34\", \"35\", \"36\", \"37\", \"38\", \"39\", \"40\", \"42\", \"44\"], \"mode\": \"lines\", \"name\": \"f1_score_micro_max\", \"stepped\": true, \"type\": \"scatter\", \"data\": [0.5946042623826416, 0.7661762102268914, 0.7661762102268914, 0.7661762102268914, 0.7661762102268914, 0.7661762102268914, 0.7661762102268914, 0.7661762102268914, 0.7661762102268914, 0.7661762102268914, 0.7661762102268914, 0.7661762102268914, 0.7661762102268914, 0.7661762102268914, 0.7661762102268914, 0.7661762102268914, 0.7661762102268914, 0.7661762102268914, 0.7661762102268914, 0.7661762102268914, 0.7661762102268914, 0.7661762102268914, 0.7661762102268914, 0.7661762102268914, 0.7661762102268914, 0.7661762102268914]}]}, \"metricName\": null, \"primaryMetricName\": \"AUC_weighted\", \"showLegend\": false}, \"run_metrics\": [{\"name\": \"experiment_status\", \"run_id\": \"AutoML_38630b92-f55c-4762-b949-0cdde20d04e0\", \"categories\": [0, 1, 2, 3, 4, 5, 6, 7, 8, 9, 10, 11, 12, 13, 14], \"series\": [{\"data\": [\"DatasetEvaluation\", \"FeaturesGeneration\", \"DatasetFeaturization\", \"DatasetFeaturizationCompleted\", \"DatasetBalancing\", \"DatasetCrossValidationSplit\", \"ModelSelection\", \"BestRunExplainModel\", \"ModelExplanationDataSetSetup\", \"PickSurrogateModel\", \"EngineeredFeatureExplanations\", \"EngineeredFeatureExplanations\", \"RawFeaturesExplanations\", \"RawFeaturesExplanations\", \"BestRunExplainModel\"]}]}, {\"name\": \"experiment_status_description\", \"run_id\": \"AutoML_38630b92-f55c-4762-b949-0cdde20d04e0\", \"categories\": [0, 1, 2, 3, 4, 5, 6, 7, 8, 9, 10, 11, 12, 13, 14], \"series\": [{\"data\": [\"Gathering dataset statistics.\", \"Generating features for the dataset.\", \"Beginning to fit featurizers and featurize the dataset.\", \"Completed fit featurizers and featurizing the dataset.\", \"Performing class balancing sweeping\", \"Generating individually featurized CV splits.\", \"Beginning model selection.\", \"Best run model explanations started\", \"Model explanations data setup completed\", \"Choosing LightGBM as the surrogate model for explanations\", \"Computation of engineered features started\", \"Computation of engineered features completed\", \"Computation of raw features started\", \"Computation of raw features completed\", \"Best run model explanations completed\"]}]}, {\"name\": \"f1_score_micro\", \"run_id\": \"AutoML_38630b92-f55c-4762-b949-0cdde20d04e0\", \"categories\": [0], \"series\": [{\"data\": [0.6923991958003273]}]}, {\"name\": \"recall_score_micro\", \"run_id\": \"AutoML_38630b92-f55c-4762-b949-0cdde20d04e0\", \"categories\": [0], \"series\": [{\"data\": [0.6923991958003257]}]}, {\"name\": \"average_precision_score_macro\", \"run_id\": \"AutoML_38630b92-f55c-4762-b949-0cdde20d04e0\", \"categories\": [0], \"series\": [{\"data\": [0.8423616661182287]}]}, {\"name\": \"AUC_micro\", \"run_id\": \"AutoML_38630b92-f55c-4762-b949-0cdde20d04e0\", \"categories\": [0], \"series\": [{\"data\": [0.7736016978679479]}]}, {\"name\": \"precision_score_macro\", \"run_id\": \"AutoML_38630b92-f55c-4762-b949-0cdde20d04e0\", \"categories\": [0], \"series\": [{\"data\": [0.7377562718896236]}]}, {\"name\": \"weighted_accuracy\", \"run_id\": \"AutoML_38630b92-f55c-4762-b949-0cdde20d04e0\", \"categories\": [0], \"series\": [{\"data\": [0.9041000302724417]}]}, {\"name\": \"recall_score_weighted\", \"run_id\": \"AutoML_38630b92-f55c-4762-b949-0cdde20d04e0\", \"categories\": [0], \"series\": [{\"data\": [0.6923991958003257]}]}, {\"name\": \"recall_score_macro\", \"run_id\": \"AutoML_38630b92-f55c-4762-b949-0cdde20d04e0\", \"categories\": [0], \"series\": [{\"data\": [0.6937838832174552]}]}, {\"name\": \"accuracy\", \"run_id\": \"AutoML_38630b92-f55c-4762-b949-0cdde20d04e0\", \"categories\": [0], \"series\": [{\"data\": [0.6923991958003275]}]}, {\"name\": \"average_precision_score_weighted\", \"run_id\": \"AutoML_38630b92-f55c-4762-b949-0cdde20d04e0\", \"categories\": [0], \"series\": [{\"data\": [0.842608294811264]}]}, {\"name\": \"average_precision_score_micro\", \"run_id\": \"AutoML_38630b92-f55c-4762-b949-0cdde20d04e0\", \"categories\": [0], \"series\": [{\"data\": [0.7816385608903232]}]}, {\"name\": \"f1_score_weighted\", \"run_id\": \"AutoML_38630b92-f55c-4762-b949-0cdde20d04e0\", \"categories\": [0], \"series\": [{\"data\": [0.6766432974040417]}]}, {\"name\": \"norm_macro_recall\", \"run_id\": \"AutoML_38630b92-f55c-4762-b949-0cdde20d04e0\", \"categories\": [0], \"series\": [{\"data\": [0.3875677664349022]}]}, {\"name\": \"precision_score_weighted\", \"run_id\": \"AutoML_38630b92-f55c-4762-b949-0cdde20d04e0\", \"categories\": [0], \"series\": [{\"data\": [0.7387274717513695]}]}, {\"name\": \"precision_score_micro\", \"run_id\": \"AutoML_38630b92-f55c-4762-b949-0cdde20d04e0\", \"categories\": [0], \"series\": [{\"data\": [0.6923991958003288]}]}, {\"name\": \"balanced_accuracy\", \"run_id\": \"AutoML_38630b92-f55c-4762-b949-0cdde20d04e0\", \"categories\": [0], \"series\": [{\"data\": [0.6937838832174552]}]}, {\"name\": \"f1_score_macro\", \"run_id\": \"AutoML_38630b92-f55c-4762-b949-0cdde20d04e0\", \"categories\": [0], \"series\": [{\"data\": [0.6771040446085819]}]}, {\"name\": \"matthews_correlation\", \"run_id\": \"AutoML_38630b92-f55c-4762-b949-0cdde20d04e0\", \"categories\": [0], \"series\": [{\"data\": [0.4288477586671458]}]}, {\"name\": \"log_loss\", \"run_id\": \"AutoML_38630b92-f55c-4762-b949-0cdde20d04e0\", \"categories\": [0], \"series\": [{\"data\": [0.5648993725889621]}]}, {\"name\": \"AUC_macro\", \"run_id\": \"AutoML_38630b92-f55c-4762-b949-0cdde20d04e0\", \"categories\": [0], \"series\": [{\"data\": [0.8497544606890469]}]}, {\"name\": \"AUC_weighted\", \"run_id\": \"AutoML_38630b92-f55c-4762-b949-0cdde20d04e0\", \"categories\": [0], \"series\": [{\"data\": [0.849754460689047]}]}], \"run_logs\": \"\\nRun is completed.\", \"graph\": {}, \"widget_settings\": {\"childWidgetDisplay\": \"popup\", \"send_telemetry\": false, \"log_level\": \"INFO\", \"sdk_version\": \"1.56.0\"}, \"loading\": false}"
          },
          "metadata": {}
        },
        {
          "output_type": "execute_result",
          "execution_count": 20,
          "data": {
            "text/plain": "{'runId': 'AutoML_38630b92-f55c-4762-b949-0cdde20d04e0',\n 'target': 'compute-for-aml',\n 'status': 'Completed',\n 'startTimeUtc': '2024-07-09T14:12:10.919829Z',\n 'endTimeUtc': '2024-07-09T14:40:39.904958Z',\n 'services': {},\n 'warnings': [{'source': 'JasmineService',\n   'message': 'No scores improved over last 10 iterations, so experiment stopped early. This early stopping behavior can be disabled by setting enable_early_stopping = False in AutoMLConfig for notebook/python SDK runs.'}],\n 'properties': {'num_iterations': '1000',\n  'training_type': 'TrainFull',\n  'acquisition_function': 'EI',\n  'primary_metric': 'AUC_weighted',\n  'train_split': '0',\n  'acquisition_parameter': '0',\n  'num_cross_validation': '2',\n  'target': 'compute-for-aml',\n  'AMLSettingsJsonString': '{\"path\":null,\"name\":\"heart-stroke-exp\",\"subscription_id\":\"3e42d11f-d64d-4173-af9b-12ecaa1030b3\",\"resource_group\":\"aml-quickstarts-262077\",\"workspace_name\":\"quick-starts-ws-262077\",\"region\":\"westeurope\",\"compute_target\":\"compute-for-aml\",\"spark_service\":null,\"azure_service\":\"remote\",\"many_models\":false,\"pipeline_fetch_max_batch_size\":1,\"enable_batch_run\":true,\"enable_parallel_run\":false,\"num_procs\":null,\"enable_run_restructure\":false,\"start_auxiliary_runs_before_parent_complete\":false,\"enable_code_generation\":true,\"force_curated_environment\":false,\"iterations\":1000,\"primary_metric\":\"AUC_weighted\",\"task_type\":\"classification\",\"positive_label\":null,\"data_script\":null,\"test_size\":0.0,\"test_include_predictions_only\":false,\"validation_size\":0.0,\"n_cross_validations\":2,\"y_min\":null,\"y_max\":null,\"num_classes\":null,\"featurization\":\"auto\",\"_ignore_package_version_incompatibilities\":false,\"is_timeseries\":false,\"max_cores_per_iteration\":1,\"max_concurrent_iterations\":5,\"iteration_timeout_minutes\":null,\"mem_in_mb\":null,\"enforce_time_on_windows\":false,\"experiment_timeout_minutes\":30,\"experiment_exit_score\":null,\"partition_column_names\":null,\"whitelist_models\":null,\"blacklist_algos\":[\"TensorFlowLinearClassifier\",\"TensorFlowDNN\"],\"supported_models\":[\"TabnetClassifier\",\"MultinomialNaiveBayes\",\"LightGBM\",\"ExtremeRandomTrees\",\"RandomForest\",\"XGBoostClassifier\",\"LogisticRegression\",\"SVM\",\"LinearSVM\",\"TensorFlowLinearClassifier\",\"GradientBoosting\",\"SGD\",\"KNN\",\"AveragedPerceptronClassifier\",\"DecisionTree\",\"BernoulliNaiveBayes\",\"TensorFlowDNN\"],\"private_models\":[],\"auto_blacklist\":true,\"blacklist_samples_reached\":false,\"exclude_nan_labels\":true,\"verbosity\":20,\"_debug_log\":\"azureml_automl.log\",\"show_warnings\":false,\"model_explainability\":true,\"service_url\":null,\"sdk_url\":null,\"sdk_packages\":null,\"enable_onnx_compatible_models\":false,\"enable_split_onnx_featurizer_estimator_models\":false,\"vm_type\":\"STANDARD_D2_V2\",\"telemetry_verbosity\":20,\"send_telemetry\":true,\"enable_dnn\":false,\"scenario\":\"AutoML\",\"environment_label\":null,\"save_mlflow\":false,\"enable_categorical_indicators\":false,\"force_text_dnn\":false,\"enable_feature_sweeping\":true,\"enable_early_stopping\":true,\"early_stopping_n_iters\":10,\"arguments\":null,\"dataset_id\":\"b4e975d7-c2b2-4a8d-a8f0-7465f5efe693\",\"hyperdrive_config\":null,\"validation_dataset_id\":null,\"run_source\":null,\"metrics\":null,\"enable_metric_confidence\":false,\"enable_ensembling\":true,\"enable_stack_ensembling\":true,\"ensemble_iterations\":15,\"enable_tf\":false,\"enable_subsampling\":null,\"subsample_seed\":null,\"enable_nimbusml\":false,\"enable_streaming\":false,\"force_streaming\":false,\"track_child_runs\":true,\"n_best_runs\":1,\"allowed_private_models\":[],\"label_column_name\":\"stroke\",\"weight_column_name\":null,\"cv_split_column_names\":null,\"enable_local_managed\":false,\"_local_managed_run_id\":null,\"cost_mode\":1,\"lag_length\":0,\"metric_operation\":\"maximize\",\"preprocess\":true}',\n  'DataPrepJsonString': '{\\\\\"training_data\\\\\": {\\\\\"datasetId\\\\\": \\\\\"b4e975d7-c2b2-4a8d-a8f0-7465f5efe693\\\\\"}, \\\\\"datasets\\\\\": 0}',\n  'EnableSubsampling': None,\n  'runTemplate': 'AutoML',\n  'azureml.runsource': 'automl',\n  'display_task_type': 'classification',\n  'dependencies_versions': '{\"azureml-accel-models\": \"1.56.0\", \"azureml-automl-core\": \"1.56.0\", \"azureml-automl-dnn-nlp\": \"1.56.0\", \"azureml-automl-runtime\": \"1.56.0\", \"azureml-cli-common\": \"1.56.0\", \"azureml-contrib-automl-pipeline-steps\": \"1.56.0\", \"azureml-contrib-dataset\": \"1.56.0\", \"azureml-contrib-fairness\": \"1.56.0\", \"azureml-contrib-notebook\": \"1.56.0\", \"azureml-contrib-pipeline-steps\": \"1.56.0\", \"azureml-contrib-reinforcementlearning\": \"1.56.0\", \"azureml-contrib-server\": \"1.56.0\", \"azureml-contrib-services\": \"1.56.0\", \"azureml-core\": \"1.56.0\", \"azureml-datadrift\": \"1.56.0\", \"azureml-dataprep\": \"5.1.6\", \"azureml-dataprep-native\": \"41.0.0\", \"azureml-dataprep-rslex\": \"2.22.2\", \"azureml-dataset-runtime\": \"1.56.0\", \"azureml-defaults\": \"1.56.0\", \"azureml-inference-server-http\": \"1.0.0\", \"azureml-interpret\": \"1.56.0\", \"azureml-mlflow\": \"1.56.0\", \"azureml-opendatasets\": \"1.56.0\", \"azureml-pipeline\": \"1.56.0\", \"azureml-pipeline-core\": \"1.56.0\", \"azureml-pipeline-steps\": \"1.56.0\", \"azureml-responsibleai\": \"1.56.0\", \"azureml-sdk\": \"1.56.0\", \"azureml-telemetry\": \"1.56.0\", \"azureml-tensorboard\": \"1.56.0\", \"azureml-train\": \"1.56.0\", \"azureml-train-automl\": \"1.56.0\", \"azureml-train-automl-client\": \"1.56.0\", \"azureml-train-automl-runtime\": \"1.56.0\", \"azureml-train-core\": \"1.56.0\", \"azureml-train-restclients-hyperdrive\": \"1.56.0\", \"azureml-training-tabular\": \"1.56.0\", \"azureml-widgets\": \"1.56.0\"}',\n  '_aml_system_scenario_identification': 'Remote.Parent',\n  'ClientType': 'SDK',\n  'PlatformVersion': 'DPV1',\n  'environment_cpu_name': 'AzureML-AutoML',\n  'environment_cpu_label': 'prod',\n  'environment_gpu_name': 'AzureML-AutoML-GPU',\n  'environment_gpu_label': 'prod',\n  'root_attribution': 'automl',\n  'attribution': 'AutoML',\n  'Orchestrator': 'AutoML',\n  'CancelUri': 'https://westeurope.api.azureml.ms/jasmine/v1.0/subscriptions/3e42d11f-d64d-4173-af9b-12ecaa1030b3/resourceGroups/aml-quickstarts-262077/providers/Microsoft.MachineLearningServices/workspaces/quick-starts-ws-262077/experimentids/ad8269a5-bd47-4ca2-b963-d2e8ac044cfe/cancel/AutoML_38630b92-f55c-4762-b949-0cdde20d04e0',\n  'ClientSdkVersion': None,\n  'snapshotId': '00000000-0000-0000-0000-000000000000',\n  'SetupRunId': 'AutoML_38630b92-f55c-4762-b949-0cdde20d04e0_setup',\n  'SetupRunContainerId': 'dcid.AutoML_38630b92-f55c-4762-b949-0cdde20d04e0_setup',\n  'FeaturizationRunJsonPath': 'featurizer_container.json',\n  'FeaturizationRunId': 'AutoML_38630b92-f55c-4762-b949-0cdde20d04e0_featurize',\n  'ProblemInfoJsonString': '{\"dataset_num_categorical\": 0, \"is_sparse\": true, \"subsampling\": false, \"has_extra_col\": true, \"dataset_classes\": 2, \"dataset_features\": 275, \"dataset_samples\": 5110, \"single_frequency_class_detected\": false}',\n  'ModelExplainRunId': 'AutoML_38630b92-f55c-4762-b949-0cdde20d04e0_ModelExplain'},\n 'inputDatasets': [{'dataset': {'id': 'b4e975d7-c2b2-4a8d-a8f0-7465f5efe693'}, 'consumptionDetails': {'type': 'RunInput', 'inputName': 'training_data', 'mechanism': 'Direct'}}],\n 'outputDatasets': [],\n 'logFiles': {},\n 'submittedBy': 'ODL_User 262077'}"
          },
          "metadata": {}
        }
      ],
      "execution_count": 20,
      "metadata": {
        "gather": {
          "logged": 1720536045469
        },
        "jupyter": {
          "outputs_hidden": false,
          "source_hidden": false
        },
        "nteract": {
          "transient": {
            "deleting": false
          }
        }
      }
    },
    {
      "cell_type": "markdown",
      "source": [
        "## Best Model\n",
        "\n",
        "TODO: In the cell below, get the best model from the automl experiments and display all the properties of the model.\n",
        "\n"
      ],
      "metadata": {}
    },
    {
      "cell_type": "code",
      "source": [
        "best_automl_run, automl_model = remote_run.get_output()\n",
        "\n",
        "# Best run\n",
        "print(best_automl_run)\n",
        "\n",
        "#Best run accuracy\n",
        "print(best_automl_run.properties['score'])"
      ],
      "outputs": [
        {
          "output_type": "stream",
          "name": "stderr",
          "text": "2024-07-09 14:50:33.920252: I tensorflow/stream_executor/platform/default/dso_loader.cc:53] Successfully opened dynamic library libcuda.so.1\n2024-07-09 14:50:40.667512: E tensorflow/stream_executor/cuda/cuda_driver.cc:328] failed call to cuInit: CUDA_ERROR_NO_DEVICE: no CUDA-capable device is detected\n2024-07-09 14:50:40.667679: I tensorflow/stream_executor/cuda/cuda_diagnostics.cc:156] kernel driver does not appear to be running on this host (notebook262077): /proc/driver/nvidia/version does not exist\n"
        },
        {
          "output_type": "stream",
          "name": "stdout",
          "text": "Run(Experiment: heart-stroke-exp,\nId: AutoML_38630b92-f55c-4762-b949-0cdde20d04e0_44,\nType: azureml.scriptrun,\nStatus: Completed)\n0.849754460689047\n"
        }
      ],
      "execution_count": 21,
      "metadata": {
        "gather": {
          "logged": 1720536652027
        },
        "jupyter": {
          "outputs_hidden": false,
          "source_hidden": false
        },
        "nteract": {
          "transient": {
            "deleting": false
          }
        }
      }
    },
    {
      "cell_type": "code",
      "source": [
        "#Save the best model\n",
        "automl_model = remote_run.register_model(model_name='stroke-experiment-model')\n",
        "\n",
        "automl_model.download(target_dir=\"outputs\", exist_ok=True)"
      ],
      "outputs": [],
      "execution_count": null,
      "metadata": {
        "gather": {
          "logged": 1598431426111
        },
        "jupyter": {
          "outputs_hidden": false,
          "source_hidden": false
        },
        "nteract": {
          "transient": {
            "deleting": false
          }
        }
      }
    },
    {
      "cell_type": "code",
      "source": [
        "print(\"Best run metrics: \", remote_run.get_metrics())\n"
      ],
      "outputs": [
        {
          "output_type": "stream",
          "name": "stdout",
          "text": "Best run metrics:  {'experiment_status': ['DatasetEvaluation', 'FeaturesGeneration', 'DatasetFeaturization', 'DatasetFeaturizationCompleted', 'DatasetBalancing', 'DatasetCrossValidationSplit', 'ModelSelection', 'BestRunExplainModel', 'ModelExplanationDataSetSetup', 'PickSurrogateModel', 'EngineeredFeatureExplanations', 'EngineeredFeatureExplanations', 'RawFeaturesExplanations', 'RawFeaturesExplanations', 'BestRunExplainModel'], 'experiment_status_description': ['Gathering dataset statistics.', 'Generating features for the dataset.', 'Beginning to fit featurizers and featurize the dataset.', 'Completed fit featurizers and featurizing the dataset.', 'Performing class balancing sweeping', 'Generating individually featurized CV splits.', 'Beginning model selection.', 'Best run model explanations started', 'Model explanations data setup completed', 'Choosing LightGBM as the surrogate model for explanations', 'Computation of engineered features started', 'Computation of engineered features completed', 'Computation of raw features started', 'Computation of raw features completed', 'Best run model explanations completed'], 'f1_score_micro': 0.6923991958003273, 'recall_score_micro': 0.6923991958003257, 'average_precision_score_macro': 0.8423616661182287, 'AUC_micro': 0.7736016978679479, 'precision_score_macro': 0.7377562718896236, 'weighted_accuracy': 0.9041000302724417, 'recall_score_weighted': 0.6923991958003257, 'recall_score_macro': 0.6937838832174552, 'accuracy': 0.6923991958003275, 'average_precision_score_weighted': 0.842608294811264, 'average_precision_score_micro': 0.7816385608903232, 'f1_score_weighted': 0.6766432974040417, 'norm_macro_recall': 0.3875677664349022, 'precision_score_weighted': 0.7387274717513695, 'precision_score_micro': 0.6923991958003288, 'balanced_accuracy': 0.6937838832174552, 'f1_score_macro': 0.6771040446085819, 'matthews_correlation': 0.4288477586671458, 'log_loss': 0.5648993725889621, 'AUC_macro': 0.8497544606890469, 'AUC_weighted': 0.849754460689047}\n"
        }
      ],
      "execution_count": 24,
      "metadata": {
        "jupyter": {
          "source_hidden": false,
          "outputs_hidden": false
        },
        "nteract": {
          "transient": {
            "deleting": false
          }
        },
        "gather": {
          "logged": 1720536784434
        }
      }
    },
    {
      "cell_type": "markdown",
      "source": [
        "## Model Deployment\n",
        "\n",
        "Remember you have to deploy only one of the two models you trained but you still need to register both the models. Perform the steps in the rest of this notebook only if you wish to deploy this model.\n",
        "\n",
        "TODO: In the cell below, register the model, create an inference config and deploy the model as a web service."
      ],
      "metadata": {}
    },
    {
      "cell_type": "code",
      "source": [],
      "outputs": [],
      "execution_count": null,
      "metadata": {
        "gather": {
          "logged": 1598431435189
        },
        "jupyter": {
          "outputs_hidden": false,
          "source_hidden": false
        },
        "nteract": {
          "transient": {
            "deleting": false
          }
        }
      }
    },
    {
      "cell_type": "markdown",
      "source": [
        "TODO: In the cell below, send a request to the web service you deployed to test it."
      ],
      "metadata": {
        "collapsed": true,
        "gather": {
          "logged": 1598431657736
        },
        "jupyter": {
          "outputs_hidden": false,
          "source_hidden": false
        },
        "nteract": {
          "transient": {
            "deleting": false
          }
        }
      }
    },
    {
      "cell_type": "code",
      "source": [],
      "outputs": [],
      "execution_count": null,
      "metadata": {
        "gather": {
          "logged": 1598432707604
        },
        "jupyter": {
          "outputs_hidden": false,
          "source_hidden": false
        },
        "nteract": {
          "transient": {
            "deleting": false
          }
        }
      }
    },
    {
      "cell_type": "markdown",
      "source": [
        "TODO: In the cell below, print the logs of the web service and delete the service"
      ],
      "metadata": {
        "collapsed": true,
        "gather": {
          "logged": 1598432765711
        },
        "jupyter": {
          "outputs_hidden": false,
          "source_hidden": false
        },
        "nteract": {
          "transient": {
            "deleting": false
          }
        }
      }
    },
    {
      "cell_type": "code",
      "source": [],
      "outputs": [],
      "execution_count": null,
      "metadata": {
        "jupyter": {
          "outputs_hidden": false,
          "source_hidden": false
        },
        "nteract": {
          "transient": {
            "deleting": false
          }
        }
      }
    },
    {
      "cell_type": "markdown",
      "source": [
        "**Submission Checklist**\n",
        "- I have registered the model.\n",
        "- I have deployed the model with the best accuracy as a webservice.\n",
        "- I have tested the webservice by sending a request to the model endpoint.\n",
        "- I have deleted the webservice and shutdown all the computes that I have used.\n",
        "- I have taken a screenshot showing the model endpoint as active.\n",
        "- The project includes a file containing the environment details.\n"
      ],
      "metadata": {}
    },
    {
      "cell_type": "markdown",
      "source": [],
      "metadata": {}
    }
  ],
  "metadata": {
    "kernel_info": {
      "name": "python38-azureml"
    },
    "kernelspec": {
      "name": "python38-azureml",
      "language": "python",
      "display_name": "Python 3.8 - AzureML"
    },
    "language_info": {
      "name": "python",
      "version": "3.9.19",
      "mimetype": "text/x-python",
      "codemirror_mode": {
        "name": "ipython",
        "version": 3
      },
      "pygments_lexer": "ipython3",
      "nbconvert_exporter": "python",
      "file_extension": ".py"
    },
    "nteract": {
      "version": "nteract-front-end@1.0.0"
    },
    "microsoft": {
      "host": {
        "AzureML": {
          "notebookHasBeenCompleted": true
        }
      },
      "ms_spell_check": {
        "ms_spell_check_language": "en"
      }
    }
  },
  "nbformat": 4,
  "nbformat_minor": 2
}